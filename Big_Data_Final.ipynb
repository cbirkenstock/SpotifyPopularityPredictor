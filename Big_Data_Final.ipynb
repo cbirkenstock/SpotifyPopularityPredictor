{
  "cells": [
    {
      "cell_type": "markdown",
      "metadata": {
        "id": "_ytwQdncZ701"
      },
      "source": [
        "#Predicting the Popularity of a Song on Spotify"
      ]
    },
    {
      "cell_type": "markdown",
      "metadata": {
        "id": "ZOiDuxNXaRpD"
      },
      "source": [
        "Here is where we import the df that contains over 200 thousand songs on Spotify. At the bottom certain genres that we felt weren't very descriptive were removed. "
      ]
    },
    {
      "cell_type": "code",
      "execution_count": 93,
      "metadata": {
        "colab": {
          "base_uri": "https://localhost:8080/"
        },
        "id": "YYsOUVJDsS0j",
        "outputId": "ccad0913-2b44-422c-b2ec-87057d42e659"
      },
      "outputs": [
        {
          "name": "stdout",
          "output_type": "stream",
          "text": [
            "Drive already mounted at /content/gdrive; to attempt to forcibly remount, call drive.mount(\"/content/gdrive\", force_remount=True).\n"
          ]
        }
      ],
      "source": [
        "from google.colab import drive\n",
        "import pandas as pd\n",
        "import numpy as np\n",
        "\n",
        "drive.mount('/content/gdrive')\n",
        "df = pd.read_csv('/content/gdrive/My Drive/SpotifyFeatures.csv', index_col=3)\n",
        "df = df.reset_index()\n",
        "\n",
        "fulldf = df\n",
        "\n",
        "df = df[df[\"genre\"]!= \"Movie\"]\n",
        "df = df[df[\"genre\"] != \"Soundtrack\"]\n",
        "df = df[df[\"genre\"] != \"Comedy\"]\n",
        "df = df.drop(\"artist_name\", axis= 1)\n",
        "\n"
      ]
    },
    {
      "cell_type": "markdown",
      "metadata": {
        "id": "DWEx1m3savdP"
      },
      "source": [
        "##A Little Context about this Spotify Dataset"
      ]
    },
    {
      "cell_type": "markdown",
      "metadata": {
        "id": "JkJhoVsQa0OO"
      },
      "source": [
        "Genre Distribution"
      ]
    },
    {
      "cell_type": "code",
      "execution_count": 94,
      "metadata": {
        "colab": {
          "base_uri": "https://localhost:8080/"
        },
        "id": "Pyah2U2CZjvD",
        "outputId": "007d2035-9b66-45d5-8f77-4bcfbdee13d2"
      },
      "outputs": [
        {
          "name": "stdout",
          "output_type": "stream",
          "text": [
            "Discribution of songs in terms of genre:\n"
          ]
        },
        {
          "data": {
            "text/plain": [
              "[('Indie', 9543),\n",
              " ('Jazz', 9441),\n",
              " ('Pop', 9386),\n",
              " ('Electronic', 9377),\n",
              " ('Children’s Music', 9353),\n",
              " ('Folk', 9299),\n",
              " ('Hip-Hop', 9295),\n",
              " ('Rock', 9272),\n",
              " ('Alternative', 9263),\n",
              " ('Classical', 9256),\n",
              " ('Rap', 9232),\n",
              " ('World', 9096),\n",
              " ('Soul', 9089),\n",
              " ('Blues', 9023),\n",
              " ('R&B', 8992),\n",
              " ('Anime', 8936),\n",
              " ('Reggaeton', 8927),\n",
              " ('Ska', 8874),\n",
              " ('Reggae', 8771),\n",
              " ('Dance', 8701),\n",
              " ('Country', 8664),\n",
              " ('Opera', 8280),\n",
              " (\"Children's Music\", 5403),\n",
              " ('A Capella', 119)]"
            ]
          },
          "execution_count": 94,
          "metadata": {},
          "output_type": "execute_result"
        }
      ],
      "source": [
        "target = list(df[\"genre\"])\n",
        "counterDictionary = Counter(target)\n",
        "print(\"Discribution of songs in terms of genre:\")\n",
        "counterDictionary.most_common()"
      ]
    },
    {
      "cell_type": "markdown",
      "metadata": {
        "id": "m0HpR6ROa-xv"
      },
      "source": [
        "Popularity Metrics (each song is assigned a popularity score between 0 and 100)"
      ]
    },
    {
      "cell_type": "code",
      "execution_count": 95,
      "metadata": {
        "colab": {
          "base_uri": "https://localhost:8080/"
        },
        "id": "re8cgy_SSEWs",
        "outputId": "4f11261e-9bd4-4094-8896-f7b308e0d2d5"
      },
      "outputs": [
        {
          "name": "stdout",
          "output_type": "stream",
          "text": [
            "Median popularity score: 46.0\n",
            "Average popularity score: 43.49498521343243\n",
            "Top 10 most common popularity scores with their frequency:\n"
          ]
        },
        {
          "data": {
            "text/plain": [
              "[(53, 5355),\n",
              " (50, 5324),\n",
              " (51, 5321),\n",
              " (52, 5275),\n",
              " (49, 5156),\n",
              " (54, 4964),\n",
              " (48, 4922),\n",
              " (47, 4793),\n",
              " (55, 4668),\n",
              " (56, 4590)]"
            ]
          },
          "execution_count": 95,
          "metadata": {},
          "output_type": "execute_result"
        }
      ],
      "source": [
        "from collections import Counter\n",
        "from collections import OrderedDict\n",
        "import statistics\n",
        "\n",
        "target = list(df[\"popularity\"])\n",
        "target.sort()\n",
        "counterDictionary = Counter(target)\n",
        "mostCommonScoresArray = counterDictionary.most_common()\n",
        "\n",
        "print(\"Median popularity score:\", statistics.median(target))\n",
        "print(\"Average popularity score:\", statistics.mean(target))\n",
        "print(\"Top 10 most common popularity scores with their frequency:\") \n",
        "mostCommonScoresArray[0:10]\n"
      ]
    },
    {
      "cell_type": "markdown",
      "metadata": {
        "id": "Du8APngZbJuq"
      },
      "source": [
        "looking at the graph below showing the distribution of popularity scores, it's immediately apparent that if follows a Gaussian distribution. The only exception is that there is a very large number of songs with a popularity score of 0"
      ]
    },
    {
      "cell_type": "code",
      "execution_count": 96,
      "metadata": {
        "colab": {
          "base_uri": "https://localhost:8080/",
          "height": 338
        },
        "id": "53tKQZQkRw0L",
        "outputId": "c91760ac-a0e8-4906-c9e9-7dc1b37162b1"
      },
      "outputs": [
        {
          "data": {
            "text/plain": [
              "(array([-1000.,     0.,  1000.,  2000.,  3000.,  4000.,  5000.,  6000.]),\n",
              " <a list of 8 Text major ticklabel objects>)"
            ]
          },
          "execution_count": 96,
          "metadata": {},
          "output_type": "execute_result"
        },
        {
          "data": {
            "image/png": "[encoded data removed]",
            "text/plain": [
              "<Figure size 432x288 with 1 Axes>"
            ]
          },
          "metadata": {
            "needs_background": "light"
          },
          "output_type": "display_data"
        }
      ],
      "source": [
        "from matplotlib import pyplot as plt\n",
        "plt.plot(list(counterDictionary.keys()), list(counterDictionary.values()))\n",
        "plt.title(\"Number of Songs per Popularity Score\")\n",
        "plt.xlabel(\"Popularity Score\", fontsize = 16)\n",
        "plt.ylabel(\"Number of Songs\")\n",
        "plt.xticks(fontsize = 12)\n",
        "plt.yticks(fontsize = 12)"
      ]
    },
    {
      "cell_type": "markdown",
      "metadata": {
        "id": "28kEyA9bcSlb"
      },
      "source": []
    },
    {
      "cell_type": "markdown",
      "metadata": {
        "id": "gqd5PDPfboAb"
      },
      "source": [
        "##Creating a Neural Network to Predict the Popularity of a Song"
      ]
    },
    {
      "cell_type": "markdown",
      "metadata": {
        "id": "7XUHz0xebvll"
      },
      "source": [
        "These two functions are for turning labels that are string into one-hot encodings. \n",
        "\n",
        "For Exmaple, if I had thre genres, rap, pop, and jazz, I would have to convert these values into something that the network can better interpret. The solution to this is one-hot encoding which turns the single column of Genre into three coloumns: is_Rap, is_Pop, and is_Jazz. Each song is then assigned a 1 or 0 for each column depending on what it is. "
      ]
    },
    {
      "cell_type": "code",
      "execution_count": 97,
      "metadata": {
        "id": "-UDquMXTOlnd"
      },
      "outputs": [],
      "source": [
        "#Function used for One-hot encoding of features\n",
        "def encode_labels(orig_list, label_list):\n",
        "    # print(len(label_list))\n",
        "    y_coded = []\n",
        "    for value in orig_list:\n",
        "        y_coded.append(label_list.index(value))\n",
        "    return y_coded\n",
        "\n",
        "def add_encodings(encodings, categories):\n",
        "    len(categories)\n",
        "    #print(type(encodings))\n",
        "    for i in range(len(categories[0])):\n",
        "        # print(\"i = \", i)\n",
        "        columns = []\n",
        "        for array in encodings:\n",
        "            columns.append(array[i])\n",
        "        df[categories[0][i]] = columns"
      ]
    },
    {
      "cell_type": "markdown",
      "metadata": {
        "id": "sFyqCnP9cYK_"
      },
      "source": [
        "This code just uses the helper functions above, and applies it to all the categories that recquire one-hot encoding."
      ]
    },
    {
      "cell_type": "code",
      "execution_count": 98,
      "metadata": {
        "id": "-jeMfmWqOw9G"
      },
      "outputs": [],
      "source": [
        "from sklearn.preprocessing import OneHotEncoder\n",
        "import numpy as np\n",
        "genre_enc= OneHotEncoder(handle_unknown='ignore')\n",
        "key_enc = OneHotEncoder(handle_unknown='ignore')\n",
        "tsig_enc = OneHotEncoder(handle_unknown='ignore')\n",
        "mode_enc = OneHotEncoder(handle_unknown='ignore')\n",
        "\n",
        "genres_list = np.array(df[\"genre\"]).reshape(-1,1)\n",
        "keys_list = np.array(df[\"key\"]).reshape(-1,1)\n",
        "tsigs_list = np.array(df[\"time_signature\"]).reshape(-1,1)\n",
        "modes_list = np.array(df[\"mode\"]).reshape(-1,1)\n",
        "\n",
        "\n",
        "genre_enc.fit(genres_list)\n",
        "genre_categories = genre_enc.categories_\n",
        "genres_encoded = genre_enc.transform(genres_list).toarray()\n",
        "\n",
        "\n",
        "key_enc.fit(keys_list)\n",
        "key_categories = key_enc.categories_\n",
        "keys_encoded = key_enc.transform(keys_list).toarray()\n",
        "\n",
        "\n",
        "tsig_enc.fit(tsigs_list)\n",
        "tsig_categories = tsig_enc.categories_\n",
        "tsigs_encoded = tsig_enc.transform(tsigs_list).toarray()\n",
        "\n",
        "\n",
        "mode_enc.fit(modes_list)\n",
        "mode_categories = mode_enc.categories_\n",
        "modes_encoded = mode_enc.transform(modes_list).toarray()\n"
      ]
    },
    {
      "cell_type": "markdown",
      "metadata": {
        "id": "zYeb-qOpcjN6"
      },
      "source": [
        "Once we have the one-hot encodings, we no longer need to the original columns"
      ]
    },
    {
      "cell_type": "code",
      "execution_count": 99,
      "metadata": {
        "id": "2aaRJxcYPSSk"
      },
      "outputs": [],
      "source": [
        "df = df.drop(\"genre\", axis = 1)\n",
        "df = df.drop(\"key\", axis = 1)\n",
        "df = df.drop(\"time_signature\", axis = 1)\n",
        "df = df.drop(\"mode\", axis = 1)"
      ]
    },
    {
      "cell_type": "markdown",
      "metadata": {
        "id": "cS8dXMDTcpKX"
      },
      "source": [
        "But we do need the new columns added!"
      ]
    },
    {
      "cell_type": "code",
      "execution_count": 100,
      "metadata": {
        "id": "HaIHcWCPPvVt"
      },
      "outputs": [],
      "source": [
        "add_encodings(genres_encoded, genre_categories)\n",
        "add_encodings(keys_encoded, key_categories)\n",
        "add_encodings(tsigs_encoded, tsig_categories)\n",
        "add_encodings(modes_encoded, mode_categories)"
      ]
    },
    {
      "cell_type": "markdown",
      "metadata": {
        "id": "e0yVMhKKdqAA"
      },
      "source": [
        "In this next cell we are preparing the data form the dataframe to be used by the neural network. "
      ]
    },
    {
      "cell_type": "code",
      "execution_count": 101,
      "metadata": {
        "id": "YoSprY3HB9T0"
      },
      "outputs": [],
      "source": [
        "import tensorflow_datasets as tfds\n",
        "from sklearn.model_selection import train_test_split\n",
        "\n",
        "#choose all columns that are descriptive of the music and could be helful to the neural network. \n",
        "X_data = df[['acousticness', 'danceability',\n",
        "       'duration_ms', 'energy', 'instrumentalness', 'liveness', 'loudness',\n",
        "       'speechiness', 'tempo', 'valence', 'A Capella', 'Alternative', 'Anime',\n",
        "       'Blues', \"Children's Music\", 'Children’s Music', 'Classical', 'Country',\n",
        "       'Dance', 'Electronic', 'Folk', 'Hip-Hop', 'Indie', 'Jazz', 'Opera',\n",
        "       'Pop', 'R&B', 'Rap', 'Reggae', 'Reggaeton', 'Rock', 'Ska', 'Soul',\n",
        "       'World', 'A', 'A#', 'B', 'C', 'C#', 'D', 'D#', 'E', 'F', 'F#', 'G',\n",
        "       'G#', '0/4', '1/4', '3/4', '4/4', '5/4', 'Major', 'Minor']].values\n",
        "\n",
        "#assign all the actual popularity values to Y_data\n",
        "Y_data = df['popularity'].values\n",
        "\n",
        "#this normalizes the values describing the charactersits of each song which makes it easier for the network. \n",
        "X_data = (X_data - np.min(X_data, axis=0)) / (np.max(X_data, axis=0) - np.min(X_data, axis=0))\n",
        "\n",
        "#here we split the data so that we have training data, validation data, and testing data \n",
        "X_train, X_other, Y_train, Y_other = train_test_split(X_data, Y_data, test_size = 0.2, random_state = 3)\n",
        "X_val, X_test, Y_val, Y_test = train_test_split(X_other, Y_other, test_size = 0.05, random_state = 3)"
      ]
    },
    {
      "cell_type": "markdown",
      "metadata": {
        "id": "lCN8Nc64eEpN"
      },
      "source": [
        "And here is the function that creates our model, which is a pretty vanilla sequential predictor model "
      ]
    },
    {
      "cell_type": "code",
      "execution_count": 102,
      "metadata": {
        "id": "BHjUYAHaxSw3"
      },
      "outputs": [],
      "source": [
        "def buildModel():\n",
        "  model = keras.Sequential()\n",
        "  #our first layer has 256 nodes -- the input is expecting 53 value becuase that is how many we have \n",
        "  #from X_data above\n",
        "  model.add(keras.layers.Dense(256, input_shape=(53,), activation='relu')),\n",
        "  #between each layer we normalize the data\n",
        "  model.add(tf.keras.layers.BatchNormalization()),\n",
        "  #The second layer is 50 nodes\n",
        "  model.add(keras.layers.Dense(units=50, activation='relu')),\n",
        "  model.add(tf.keras.layers.BatchNormalization()),\n",
        "  #there is only one node at the output layer becuase the model only has to output one number -- the projected\n",
        "  #popularity of a song \n",
        "  model.add(keras.layers.Dense(units=1, activation='relu'))\n",
        "\n",
        "  return model"
      ]
    },
    {
      "cell_type": "markdown",
      "metadata": {
        "id": "H5I4R7k_eno9"
      },
      "source": [
        "Below is the code for training our model on the datafram with all songs of the allowed genres (remember that we filtered some out at the beginning)"
      ]
    },
    {
      "cell_type": "code",
      "execution_count": 103,
      "metadata": {
        "colab": {
          "base_uri": "https://localhost:8080/"
        },
        "id": "O8dPP3677b5m",
        "outputId": "8e3d51d1-bbb7-4b3c-b145-3dc3206a7242"
      },
      "outputs": [
        {
          "name": "stdout",
          "output_type": "stream",
          "text": [
            "Epoch 1/10\n",
            "5140/5140 [==============================] - 16s 3ms/step - loss: 227.5638 - accuracy: 0.0132 - val_loss: 90.0623 - val_accuracy: 0.0153\n",
            "Epoch 2/10\n",
            "5140/5140 [==============================] - 15s 3ms/step - loss: 97.8461 - accuracy: 0.0096 - val_loss: 89.6259 - val_accuracy: 0.0153\n",
            "Epoch 3/10\n",
            "5140/5140 [==============================] - 15s 3ms/step - loss: 96.8930 - accuracy: 0.0097 - val_loss: 88.2541 - val_accuracy: 0.0154\n",
            "Epoch 4/10\n",
            "5140/5140 [==============================] - 15s 3ms/step - loss: 96.8444 - accuracy: 0.0102 - val_loss: 88.3811 - val_accuracy: 0.0155\n",
            "Epoch 5/10\n",
            "5140/5140 [==============================] - 14s 3ms/step - loss: 96.5647 - accuracy: 0.0082 - val_loss: 88.1898 - val_accuracy: 0.0146\n",
            "Epoch 6/10\n",
            "5140/5140 [==============================] - 14s 3ms/step - loss: 95.6041 - accuracy: 0.0082 - val_loss: 87.7341 - val_accuracy: 0.0154\n",
            "Epoch 7/10\n",
            "5140/5140 [==============================] - 14s 3ms/step - loss: 96.0497 - accuracy: 0.0099 - val_loss: 88.7707 - val_accuracy: 0.0153\n",
            "Epoch 8/10\n",
            "5140/5140 [==============================] - 14s 3ms/step - loss: 95.4135 - accuracy: 0.0088 - val_loss: 87.6795 - val_accuracy: 0.0154\n",
            "Epoch 9/10\n",
            "5140/5140 [==============================] - 14s 3ms/step - loss: 94.9286 - accuracy: 0.0083 - val_loss: 87.4607 - val_accuracy: 0.0153\n",
            "Epoch 10/10\n",
            "5140/5140 [==============================] - 14s 3ms/step - loss: 94.9943 - accuracy: 0.0076 - val_loss: 88.2758 - val_accuracy: 0.0153\n"
          ]
        },
        {
          "data": {
            "text/plain": [
              "<keras.callbacks.History at 0x7f1f9efb5f90>"
            ]
          },
          "execution_count": 103,
          "metadata": {},
          "output_type": "execute_result"
        }
      ],
      "source": [
        "import tensorflow as tf\n",
        "from tensorflow import keras\n",
        "from tensorflow.keras.optimizers import Adam\n",
        "\n",
        "model1 = buildModel()\n",
        "\n",
        "#our loss function is mean squared error hear for determining how large the cost was for each wrong answer\n",
        "model1.compile(loss='MSE', optimizer=Adam(), metrics=['accuracy'])\n",
        "\n",
        "model1.fit(X_train, Y_train, validation_data=(X_val, Y_val), epochs=10)\n",
        "\n",
        "\n",
        "\n"
      ]
    },
    {
      "cell_type": "markdown",
      "metadata": {
        "id": "p9Bv5dLnfW9F"
      },
      "source": [
        "Below we can see that the model is actually able to do pretty well predicting the popularity of a song. Points that fall on the line represent a perfect guess, so it is very good knews to see the points follow the line. "
      ]
    },
    {
      "cell_type": "code",
      "execution_count": 106,
      "metadata": {
        "colab": {
          "base_uri": "https://localhost:8080/",
          "height": 339
        },
        "id": "L_sWAyi0zJAk",
        "outputId": "2c127c54-ecdd-4f4e-d76c-50ac23bbe3f0"
      },
      "outputs": [
        {
          "data": {
            "text/plain": [
              "(array([-10.,   0.,  10.,  20.,  30.,  40.,  50.,  60.,  70.,  80.,  90.]),\n",
              " <a list of 11 Text major ticklabel objects>)"
            ]
          },
          "execution_count": 106,
          "metadata": {},
          "output_type": "execute_result"
        },
        {
          "data": {
            "image/png": "[encoded data removed]",
            "text/plain": [
              "<Figure size 432x288 with 1 Axes>"
            ]
          },
          "metadata": {
            "needs_background": "light"
          },
          "output_type": "display_data"
        }
      ],
      "source": [
        "import matplotlib.pyplot as plt\n",
        "\n",
        "plt.scatter(Y_test, model1.predict(X_test))\n",
        "#This line represents x=y which makes sense as that would mean that x (the projected popularity score)\n",
        "#is equal to y (the actual popularity score). \n",
        "plt.plot([0,80], [0,80])\n",
        "plt.title(\"Accuracy of Prediction Model (All Genres)\", fontsize = 16)\n",
        "plt.xlabel(\"Actual Popularity score\", fontsize = 14)\n",
        "plt.ylabel(\"Projected Popularity Score\", fontsize = 14)\n",
        "plt.xticks(fontsize = 12)\n",
        "plt.yticks(fontsize = 12)\n"
      ]
    },
    {
      "cell_type": "markdown",
      "metadata": {
        "id": "n0b4oKedhHji"
      },
      "source": [
        "Here we do the exact same thing except to just for jazz music to see if the network can do better when it can specialize. "
      ]
    },
    {
      "cell_type": "code",
      "execution_count": 107,
      "metadata": {
        "id": "MFT6l7CDgCmi"
      },
      "outputs": [],
      "source": [
        "df_jazz = df[df[\"Jazz\"] == 1.0]\n",
        "\n",
        "X_data = df_jazz[['acousticness', 'danceability',\n",
        "       'duration_ms', 'energy', 'instrumentalness', 'liveness', 'loudness',\n",
        "       'speechiness', 'tempo', 'valence', 'A Capella', 'Alternative', 'Anime',\n",
        "       'Blues', \"Children's Music\", 'Children’s Music', 'Classical', 'Country',\n",
        "       'Dance', 'Electronic', 'Folk', 'Hip-Hop', 'Indie', 'Jazz', 'Opera',\n",
        "       'Pop', 'R&B', 'Rap', 'Reggae', 'Reggaeton', 'Rock', 'Ska', 'Soul',\n",
        "       'World', 'A', 'A#', 'B', 'C', 'C#', 'D', 'D#', 'E', 'F', 'F#', 'G',\n",
        "       'G#', '0/4', '1/4', '3/4', '4/4', '5/4', 'Major', 'Minor']].values\n",
        "\n",
        "Y_data = df_jazz['popularity'].values\n",
        "\n",
        "X_data = (X_data - np.min(X_data, axis=0)) / ((np.max(X_data, axis=0) - np.min(X_data, axis=0)) + 0.00000000000000000001)\n",
        "X_train, X_other, Y_train, Y_other = train_test_split(X_data, Y_data, test_size = 0.2, random_state = 3)\n",
        "X_val, X_test, Y_val, Y_test = train_test_split(X_other, Y_other, test_size = 0.2, random_state = 3)"
      ]
    },
    {
      "cell_type": "code",
      "execution_count": 108,
      "metadata": {
        "colab": {
          "base_uri": "https://localhost:8080/"
        },
        "id": "8MRoM7CbgeQc",
        "outputId": "81bbf5f1-b7f5-4725-b7cf-9fe98d4dd353"
      },
      "outputs": [
        {
          "name": "stdout",
          "output_type": "stream",
          "text": [
            "Epoch 1/10\n",
            "236/236 [==============================] - 2s 6ms/step - loss: 1264.1624 - accuracy: 0.0040 - val_loss: 1159.9989 - val_accuracy: 0.0060\n",
            "Epoch 2/10\n",
            "236/236 [==============================] - 1s 3ms/step - loss: 1004.9413 - accuracy: 0.0041 - val_loss: 614.3463 - val_accuracy: 0.0026\n",
            "Epoch 3/10\n",
            "236/236 [==============================] - 1s 3ms/step - loss: 529.6083 - accuracy: 0.0032 - val_loss: 298.6670 - val_accuracy: 0.0020\n",
            "Epoch 4/10\n",
            "236/236 [==============================] - 1s 4ms/step - loss: 236.6146 - accuracy: 0.0029 - val_loss: 166.1234 - val_accuracy: 0.0020\n",
            "Epoch 5/10\n",
            "236/236 [==============================] - 1s 5ms/step - loss: 120.9669 - accuracy: 0.0024 - val_loss: 112.8510 - val_accuracy: 0.0013\n",
            "Epoch 6/10\n",
            "236/236 [==============================] - 2s 9ms/step - loss: 85.5771 - accuracy: 0.0023 - val_loss: 96.2047 - val_accuracy: 0.0013\n",
            "Epoch 7/10\n",
            "236/236 [==============================] - 2s 7ms/step - loss: 84.8167 - accuracy: 0.0023 - val_loss: 93.1982 - val_accuracy: 0.0013\n",
            "Epoch 8/10\n",
            "236/236 [==============================] - 2s 8ms/step - loss: 84.3620 - accuracy: 0.0023 - val_loss: 91.8237 - val_accuracy: 0.0013\n",
            "Epoch 9/10\n",
            "236/236 [==============================] - 2s 9ms/step - loss: 84.0755 - accuracy: 0.0023 - val_loss: 93.7369 - val_accuracy: 0.0013\n",
            "Epoch 10/10\n",
            "236/236 [==============================] - 2s 10ms/step - loss: 83.4206 - accuracy: 0.0023 - val_loss: 94.6388 - val_accuracy: 0.0013\n"
          ]
        },
        {
          "data": {
            "text/plain": [
              "<keras.callbacks.History at 0x7f1f9ed6f590>"
            ]
          },
          "execution_count": 108,
          "metadata": {},
          "output_type": "execute_result"
        }
      ],
      "source": [
        "model2 = buildModel()\n",
        "\n",
        "model2.compile(loss='MSE', optimizer=Adam(), metrics=['accuracy'])\n",
        "\n",
        "model2.fit(X_train, Y_train, validation_data=(X_val, Y_val), epochs=10)"
      ]
    },
    {
      "cell_type": "markdown",
      "metadata": {
        "id": "EmNSODW2hSoo"
      },
      "source": [
        "Here we can see that the model does okay predicting the popularity based on only having one genre for data. The densest data is, in fact, clustered around the line. It does not appear fantastically better than the regular model though. The training loss is lower, but the validation loss is actually higher. "
      ]
    },
    {
      "cell_type": "code",
      "execution_count": 109,
      "metadata": {
        "colab": {
          "base_uri": "https://localhost:8080/",
          "height": 339
        },
        "id": "_9yK8cMRgmTa",
        "outputId": "b0b781fd-6c91-4929-f04d-0e42d134de9d"
      },
      "outputs": [
        {
          "data": {
            "text/plain": [
              "(array([-10.,   0.,  10.,  20.,  30.,  40.,  50.,  60.,  70.,  80.,  90.]),\n",
              " <a list of 11 Text major ticklabel objects>)"
            ]
          },
          "execution_count": 109,
          "metadata": {},
          "output_type": "execute_result"
        },
        {
          "data": {
            "image/png": "[encoded data removed]",
            "text/plain": [
              "<Figure size 432x288 with 1 Axes>"
            ]
          },
          "metadata": {
            "needs_background": "light"
          },
          "output_type": "display_data"
        }
      ],
      "source": [
        "plt.scatter(Y_test, model2.predict(X_test))\n",
        "plt.plot([0,80], [0,80])\n",
        "plt.title(\"Accuracy of Prediction Model (Jazz)\", fontsize = 16)\n",
        "plt.xlabel(\"Actual Popularity score\", fontsize = 14)\n",
        "plt.ylabel(\"Projected Popularity Score\", fontsize = 14)\n",
        "plt.xticks(fontsize = 12)\n",
        "plt.yticks(fontsize = 12)"
      ]
    },
    {
      "cell_type": "markdown",
      "metadata": {
        "id": "tWnbS89fiZSq"
      },
      "source": [
        "One could argue that jazz is too diverse to be a good choice for specialization. So here is the same code with pop music, which is widely regarded as much more predictable in terms of composition. "
      ]
    },
    {
      "cell_type": "code",
      "execution_count": 110,
      "metadata": {
        "id": "llcxSZS6wVpZ"
      },
      "outputs": [],
      "source": [
        "df_pop = df[df[\"Pop\"] == 1.0]\n",
        "\n",
        "X_data = df_pop[['acousticness', 'danceability',\n",
        "       'duration_ms', 'energy', 'instrumentalness', 'liveness', 'loudness',\n",
        "       'speechiness', 'tempo', 'valence', 'A Capella', 'Alternative', 'Anime',\n",
        "       'Blues', \"Children's Music\", 'Children’s Music', 'Classical', 'Country',\n",
        "       'Dance', 'Electronic', 'Folk', 'Hip-Hop', 'Indie', 'Jazz', 'Opera',\n",
        "       'Pop', 'R&B', 'Rap', 'Reggae', 'Reggaeton', 'Rock', 'Ska', 'Soul',\n",
        "       'World', 'A', 'A#', 'B', 'C', 'C#', 'D', 'D#', 'E', 'F', 'F#', 'G',\n",
        "       'G#', '0/4', '1/4', '3/4', '4/4', '5/4', 'Major', 'Minor']].values\n",
        "\n",
        "Y_data = df_pop['popularity'].values\n",
        "\n",
        "X_data = (X_data - np.min(X_data, axis=0)) / ((np.max(X_data, axis=0) - np.min(X_data, axis=0)) + 0.00000000000000000001)\n",
        "X_train, X_other, Y_train, Y_other = train_test_split(X_data, Y_data, test_size = 0.2, random_state = 3)\n",
        "X_val, X_test, Y_val, Y_test = train_test_split(X_other, Y_other, test_size = 0.2, random_state = 3)"
      ]
    },
    {
      "cell_type": "code",
      "execution_count": 111,
      "metadata": {
        "colab": {
          "base_uri": "https://localhost:8080/"
        },
        "id": "X1QULNNAyFAn",
        "outputId": "019f2dfc-d23e-4308-8a9b-9a2153295b38"
      },
      "outputs": [
        {
          "name": "stdout",
          "output_type": "stream",
          "text": [
            "Epoch 1/10\n",
            "235/235 [==============================] - 2s 3ms/step - loss: 3563.0757 - accuracy: 0.0000e+00 - val_loss: 3369.4250 - val_accuracy: 0.0000e+00\n",
            "Epoch 2/10\n",
            "235/235 [==============================] - 1s 3ms/step - loss: 2604.9668 - accuracy: 0.0000e+00 - val_loss: 2458.3354 - val_accuracy: 0.0000e+00\n",
            "Epoch 3/10\n",
            "235/235 [==============================] - 1s 3ms/step - loss: 1984.7074 - accuracy: 0.0000e+00 - val_loss: 1453.2830 - val_accuracy: 0.0000e+00\n",
            "Epoch 4/10\n",
            "235/235 [==============================] - 1s 3ms/step - loss: 1031.3495 - accuracy: 0.0000e+00 - val_loss: 1151.7096 - val_accuracy: 0.0000e+00\n",
            "Epoch 5/10\n",
            "235/235 [==============================] - 1s 3ms/step - loss: 851.7111 - accuracy: 0.0000e+00 - val_loss: 1089.8772 - val_accuracy: 0.0000e+00\n",
            "Epoch 6/10\n",
            "235/235 [==============================] - 1s 3ms/step - loss: 475.6004 - accuracy: 0.0000e+00 - val_loss: 607.3564 - val_accuracy: 0.0000e+00\n",
            "Epoch 7/10\n",
            "235/235 [==============================] - 1s 3ms/step - loss: 406.2767 - accuracy: 0.0000e+00 - val_loss: 366.9760 - val_accuracy: 0.0000e+00\n",
            "Epoch 8/10\n",
            "235/235 [==============================] - 1s 4ms/step - loss: 155.9153 - accuracy: 0.0000e+00 - val_loss: 80.2903 - val_accuracy: 0.0000e+00\n",
            "Epoch 9/10\n",
            "235/235 [==============================] - 1s 4ms/step - loss: 53.2770 - accuracy: 0.0000e+00 - val_loss: 54.9201 - val_accuracy: 0.0000e+00\n",
            "Epoch 10/10\n",
            "235/235 [==============================] - 1s 4ms/step - loss: 52.6599 - accuracy: 0.0000e+00 - val_loss: 53.3133 - val_accuracy: 0.0000e+00\n"
          ]
        },
        {
          "data": {
            "text/plain": [
              "<keras.callbacks.History at 0x7f1f9eae38d0>"
            ]
          },
          "execution_count": 111,
          "metadata": {},
          "output_type": "execute_result"
        }
      ],
      "source": [
        "model3 = buildModel()\n",
        "\n",
        "model3.compile(loss='MSE', optimizer=Adam(), metrics=['accuracy'])\n",
        "\n",
        "model3.fit(X_train, Y_train, validation_data=(X_val, Y_val), epochs=10)"
      ]
    },
    {
      "cell_type": "markdown",
      "metadata": {
        "id": "EQuZpbitisRQ"
      },
      "source": [
        "The first graph below shows that the modeal once again does okay, but not fantastically better than how the unspecialized model. The loss is also higher here. "
      ]
    },
    {
      "cell_type": "code",
      "execution_count": 112,
      "metadata": {
        "colab": {
          "base_uri": "https://localhost:8080/",
          "height": 339
        },
        "id": "2Ed4J2auxHC-",
        "outputId": "7ba557b9-0626-449c-d3e4-954a3726414f"
      },
      "outputs": [
        {
          "data": {
            "text/plain": [
              "(array([-20.,   0.,  20.,  40.,  60.,  80., 100., 120.]),\n",
              " <a list of 8 Text major ticklabel objects>)"
            ]
          },
          "execution_count": 112,
          "metadata": {},
          "output_type": "execute_result"
        },
        {
          "data": {
            "image/png": "[encoded data removed]",
            "text/plain": [
              "<Figure size 432x288 with 1 Axes>"
            ]
          },
          "metadata": {
            "needs_background": "light"
          },
          "output_type": "display_data"
        }
      ],
      "source": [
        "plt.scatter(Y_test, model3.predict(X_test))\n",
        "plt.plot([0,100], [0,100])\n",
        "plt.title(\"Accuracy of Prediction Model (Pop)\", fontsize = 16)\n",
        "plt.xlabel(\"Actual Popularity score\", fontsize = 14)\n",
        "plt.ylabel(\"Projected Popularity Score\", fontsize = 14)\n",
        "plt.xticks(fontsize = 12)\n",
        "plt.yticks(fontsize = 12)"
      ]
    },
    {
      "cell_type": "markdown",
      "metadata": {
        "id": "cTkAvGq9i5pf"
      },
      "source": [
        "However, when you compare it to how the orignal model plots the pop music, we see that it actually does perform a good deal better. This must mean that while the unspecialized model's loss is lower in general, it was actually struggling a bit with pop music. "
      ]
    },
    {
      "cell_type": "code",
      "execution_count": 114,
      "metadata": {
        "colab": {
          "base_uri": "https://localhost:8080/",
          "height": 339
        },
        "id": "Xz-4ZrYu1ElI",
        "outputId": "7d42350f-9de4-427d-c83b-c64a87bfc84a"
      },
      "outputs": [
        {
          "data": {
            "text/plain": [
              "(array([-20.,   0.,  20.,  40.,  60.,  80., 100., 120.]),\n",
              " <a list of 8 Text major ticklabel objects>)"
            ]
          },
          "execution_count": 114,
          "metadata": {},
          "output_type": "execute_result"
        },
        {
          "data": {
            "image/png": "[encoded data removed]",
            "text/plain": [
              "<Figure size 432x288 with 1 Axes>"
            ]
          },
          "metadata": {
            "needs_background": "light"
          },
          "output_type": "display_data"
        }
      ],
      "source": [
        "plt.scatter(Y_test, model1.predict(X_test))\n",
        "plt.plot([0,100], [0,100])\n",
        "plt.title(\"Accuracy of Prediction Model w/ Pop (All Genres)\", fontsize = 16)\n",
        "plt.xlabel(\"Actual Popularity score\", fontsize = 14)\n",
        "plt.ylabel(\"Projected Popularity Score\", fontsize = 14)\n",
        "plt.xticks(fontsize = 12)\n",
        "plt.yticks(fontsize = 12)"
      ]
    },
    {
      "cell_type": "markdown",
      "metadata": {
        "id": "jEcCL3jJ64Ll"
      },
      "source": [
        "#Music Trends"
      ]
    },
    {
      "cell_type": "markdown",
      "metadata": {
        "id": "djjrhPsHoFFb"
      },
      "source": [
        "Here we are using creating a graph showing the popularity of certain genres of music over the decades. While this would be an easy problem if the oringal database included the data the song was released, it does not. \n",
        "\n",
        "To get the data, I am using the site AllMusic and am using Selenium to locate elements within the HTML that contain the release date for each song. "
      ]
    },
    {
      "cell_type": "code",
      "execution_count": 79,
      "metadata": {
        "colab": {
          "base_uri": "https://localhost:8080/",
          "height": 1000
        },
        "id": "KXXWNl5D2tMV",
        "outputId": "4c2044bc-72b6-4d2a-de7b-0c8957916b70"
      },
      "outputs": [
        {
          "name": "stdout",
          "output_type": "stream",
          "text": [
            "Collecting selenium\n",
            "  Downloading selenium-4.1.3-py3-none-any.whl (968 kB)\n",
            "\u001b[K     |████████████████████████████████| 968 kB 21.3 MB/s \n",
            "\u001b[?25hCollecting urllib3[secure,socks]~=1.26\n",
            "  Downloading urllib3-1.26.9-py2.py3-none-any.whl (138 kB)\n",
            "\u001b[K     |████████████████████████████████| 138 kB 56.3 MB/s \n",
            "\u001b[?25hCollecting trio-websocket~=0.9\n",
            "  Downloading trio_websocket-0.9.2-py3-none-any.whl (16 kB)\n",
            "Collecting trio~=0.17\n",
            "  Downloading trio-0.20.0-py3-none-any.whl (359 kB)\n",
            "\u001b[K     |████████████████████████████████| 359 kB 55.1 MB/s \n",
            "\u001b[?25hCollecting sniffio\n",
            "  Downloading sniffio-1.2.0-py3-none-any.whl (10 kB)\n",
            "Requirement already satisfied: idna in /usr/local/lib/python3.7/dist-packages (from trio~=0.17->selenium) (2.10)\n",
            "Requirement already satisfied: sortedcontainers in /usr/local/lib/python3.7/dist-packages (from trio~=0.17->selenium) (2.4.0)\n",
            "Collecting outcome\n",
            "  Downloading outcome-1.1.0-py2.py3-none-any.whl (9.7 kB)\n",
            "Requirement already satisfied: attrs>=19.2.0 in /usr/local/lib/python3.7/dist-packages (from trio~=0.17->selenium) (21.4.0)\n",
            "Collecting async-generator>=1.9\n",
            "  Downloading async_generator-1.10-py3-none-any.whl (18 kB)\n",
            "Collecting wsproto>=0.14\n",
            "  Downloading wsproto-1.1.0-py3-none-any.whl (24 kB)\n",
            "Requirement already satisfied: PySocks!=1.5.7,<2.0,>=1.5.6 in /usr/local/lib/python3.7/dist-packages (from urllib3[secure,socks]~=1.26->selenium) (1.7.1)\n",
            "Collecting pyOpenSSL>=0.14\n",
            "  Downloading pyOpenSSL-22.0.0-py2.py3-none-any.whl (55 kB)\n",
            "\u001b[K     |████████████████████████████████| 55 kB 4.6 MB/s \n",
            "\u001b[?25hRequirement already satisfied: certifi in /usr/local/lib/python3.7/dist-packages (from urllib3[secure,socks]~=1.26->selenium) (2021.10.8)\n",
            "Collecting cryptography>=1.3.4\n",
            "  Downloading cryptography-37.0.1-cp36-abi3-manylinux_2_24_x86_64.whl (4.0 MB)\n",
            "\u001b[K     |████████████████████████████████| 4.0 MB 55.3 MB/s \n",
            "\u001b[?25hRequirement already satisfied: cffi>=1.12 in /usr/local/lib/python3.7/dist-packages (from cryptography>=1.3.4->urllib3[secure,socks]~=1.26->selenium) (1.15.0)\n",
            "Requirement already satisfied: pycparser in /usr/local/lib/python3.7/dist-packages (from cffi>=1.12->cryptography>=1.3.4->urllib3[secure,socks]~=1.26->selenium) (2.21)\n",
            "Collecting h11<1,>=0.9.0\n",
            "  Downloading h11-0.13.0-py3-none-any.whl (58 kB)\n",
            "\u001b[K     |████████████████████████████████| 58 kB 6.5 MB/s \n",
            "\u001b[?25hRequirement already satisfied: typing-extensions in /usr/local/lib/python3.7/dist-packages (from h11<1,>=0.9.0->wsproto>=0.14->trio-websocket~=0.9->selenium) (4.2.0)\n",
            "Installing collected packages: sniffio, outcome, h11, cryptography, async-generator, wsproto, urllib3, trio, pyOpenSSL, trio-websocket, selenium\n",
            "  Attempting uninstall: urllib3\n",
            "    Found existing installation: urllib3 1.24.3\n",
            "    Uninstalling urllib3-1.24.3:\n",
            "      Successfully uninstalled urllib3-1.24.3\n",
            "\u001b[31mERROR: pip's dependency resolver does not currently take into account all the packages that are installed. This behaviour is the source of the following dependency conflicts.\n",
            "requests 2.23.0 requires urllib3!=1.25.0,!=1.25.1,<1.26,>=1.21.1, but you have urllib3 1.26.9 which is incompatible.\n",
            "datascience 0.10.6 requires folium==0.2.1, but you have folium 0.8.3 which is incompatible.\u001b[0m\n",
            "Successfully installed async-generator-1.10 cryptography-37.0.1 h11-0.13.0 outcome-1.1.0 pyOpenSSL-22.0.0 selenium-4.1.3 sniffio-1.2.0 trio-0.20.0 trio-websocket-0.9.2 urllib3-1.26.9 wsproto-1.1.0\n"
          ]
        },
        {
          "data": {
            "application/vnd.colab-display-data+json": {
              "pip_warning": {
                "packages": [
                  "urllib3"
                ]
              }
            }
          },
          "metadata": {},
          "output_type": "display_data"
        },
        {
          "name": "stdout",
          "output_type": "stream",
          "text": [
            "\r0% [Working]\r            \rHit:1 https://developer.download.nvidia.com/compute/cuda/repos/ubuntu1804/x86_64  InRelease\n",
            "\r0% [Connecting to archive.ubuntu.com (185.125.190.39)] [Connecting to security.\r                                                                               \rGet:2 https://cloud.r-project.org/bin/linux/ubuntu bionic-cran40/ InRelease [3,626 B]\n",
            "\r0% [Waiting for headers] [Waiting for headers] [Connecting to ppa.launchpad.net\r0% [1 InRelease gpgv 1,575 B] [Waiting for headers] [Waiting for headers] [Conn\r                                                                               \rIgn:3 https://developer.download.nvidia.com/compute/machine-learning/repos/ubuntu1804/x86_64  InRelease\n",
            "\r0% [1 InRelease gpgv 1,575 B] [Waiting for headers] [Waiting for headers] [Wait\r                                                                               \rHit:4 https://developer.download.nvidia.com/compute/machine-learning/repos/ubuntu1804/x86_64  Release\n",
            "\r0% [1 InRelease gpgv 1,575 B] [Waiting for headers] [Waiting for headers] [Wait\r                                                                               \rHit:5 http://archive.ubuntu.com/ubuntu bionic InRelease\n",
            "\r0% [1 InRelease gpgv 1,575 B] [Waiting for headers] [Waiting for headers] [Wait\r                                                                               \rGet:6 http://security.ubuntu.com/ubuntu bionic-security InRelease [88.7 kB]\n",
            "Get:7 http://ppa.launchpad.net/c2d4u.team/c2d4u4.0+/ubuntu bionic InRelease [15.9 kB]\n",
            "Get:8 http://archive.ubuntu.com/ubuntu bionic-updates InRelease [88.7 kB]\n",
            "Hit:9 http://ppa.launchpad.net/cran/libgit2/ubuntu bionic InRelease\n",
            "Get:10 http://archive.ubuntu.com/ubuntu bionic-backports InRelease [74.6 kB]\n",
            "Hit:11 http://ppa.launchpad.net/deadsnakes/ppa/ubuntu bionic InRelease\n",
            "Hit:13 http://ppa.launchpad.net/graphics-drivers/ppa/ubuntu bionic InRelease\n",
            "Get:14 http://ppa.launchpad.net/c2d4u.team/c2d4u4.0+/ubuntu bionic/main Sources [1,953 kB]\n",
            "Get:15 http://security.ubuntu.com/ubuntu bionic-security/universe amd64 Packages [1,496 kB]\n",
            "Get:16 http://security.ubuntu.com/ubuntu bionic-security/main amd64 Packages [2,733 kB]\n",
            "Get:17 http://archive.ubuntu.com/ubuntu bionic-updates/universe amd64 Packages [2,272 kB]\n",
            "Get:18 http://ppa.launchpad.net/c2d4u.team/c2d4u4.0+/ubuntu bionic/main amd64 Packages [1,001 kB]\n",
            "Get:19 http://archive.ubuntu.com/ubuntu bionic-updates/main amd64 Packages [3,167 kB]\n",
            "Fetched 12.9 MB in 3s (4,073 kB/s)\n",
            "Reading package lists... Done\n",
            "Reading package lists... Done\n",
            "Building dependency tree       \n",
            "Reading state information... Done\n",
            "The following packages were automatically installed and are no longer required:\n",
            "  libnvidia-common-460 nsight-compute-2020.2.0\n",
            "Use 'apt autoremove' to remove them.\n",
            "The following additional packages will be installed:\n",
            "  chromium-browser chromium-browser-l10n chromium-codecs-ffmpeg-extra\n",
            "Suggested packages:\n",
            "  webaccounts-chromium-extension unity-chromium-extension\n",
            "The following NEW packages will be installed:\n",
            "  chromium-browser chromium-browser-l10n chromium-chromedriver\n",
            "  chromium-codecs-ffmpeg-extra\n",
            "0 upgraded, 4 newly installed, 0 to remove and 51 not upgraded.\n",
            "Need to get 88.4 MB of archives.\n",
            "After this operation, 297 MB of additional disk space will be used.\n",
            "Get:1 http://archive.ubuntu.com/ubuntu bionic-updates/universe amd64 chromium-codecs-ffmpeg-extra amd64 100.0.4896.127-0ubuntu0.18.04.1 [1,142 kB]\n",
            "Get:2 http://archive.ubuntu.com/ubuntu bionic-updates/universe amd64 chromium-browser amd64 100.0.4896.127-0ubuntu0.18.04.1 [77.6 MB]\n",
            "Get:3 http://archive.ubuntu.com/ubuntu bionic-updates/universe amd64 chromium-browser-l10n all 100.0.4896.127-0ubuntu0.18.04.1 [4,496 kB]\n",
            "Get:4 http://archive.ubuntu.com/ubuntu bionic-updates/universe amd64 chromium-chromedriver amd64 100.0.4896.127-0ubuntu0.18.04.1 [5,190 kB]\n",
            "Fetched 88.4 MB in 3s (27.9 MB/s)\n",
            "Selecting previously unselected package chromium-codecs-ffmpeg-extra.\n",
            "(Reading database ... 155202 files and directories currently installed.)\n",
            "Preparing to unpack .../chromium-codecs-ffmpeg-extra_100.0.4896.127-0ubuntu0.18.04.1_amd64.deb ...\n",
            "Unpacking chromium-codecs-ffmpeg-extra (100.0.4896.127-0ubuntu0.18.04.1) ...\n",
            "Selecting previously unselected package chromium-browser.\n",
            "Preparing to unpack .../chromium-browser_100.0.4896.127-0ubuntu0.18.04.1_amd64.deb ...\n",
            "Unpacking chromium-browser (100.0.4896.127-0ubuntu0.18.04.1) ...\n",
            "Selecting previously unselected package chromium-browser-l10n.\n",
            "Preparing to unpack .../chromium-browser-l10n_100.0.4896.127-0ubuntu0.18.04.1_all.deb ...\n",
            "Unpacking chromium-browser-l10n (100.0.4896.127-0ubuntu0.18.04.1) ...\n",
            "Selecting previously unselected package chromium-chromedriver.\n",
            "Preparing to unpack .../chromium-chromedriver_100.0.4896.127-0ubuntu0.18.04.1_amd64.deb ...\n",
            "Unpacking chromium-chromedriver (100.0.4896.127-0ubuntu0.18.04.1) ...\n",
            "Setting up chromium-codecs-ffmpeg-extra (100.0.4896.127-0ubuntu0.18.04.1) ...\n",
            "Setting up chromium-browser (100.0.4896.127-0ubuntu0.18.04.1) ...\n",
            "update-alternatives: using /usr/bin/chromium-browser to provide /usr/bin/x-www-browser (x-www-browser) in auto mode\n",
            "update-alternatives: using /usr/bin/chromium-browser to provide /usr/bin/gnome-www-browser (gnome-www-browser) in auto mode\n",
            "Setting up chromium-chromedriver (100.0.4896.127-0ubuntu0.18.04.1) ...\n",
            "Setting up chromium-browser-l10n (100.0.4896.127-0ubuntu0.18.04.1) ...\n",
            "Processing triggers for man-db (2.8.3-2ubuntu0.1) ...\n",
            "Processing triggers for hicolor-icon-theme (0.17-2) ...\n",
            "Processing triggers for mime-support (3.60ubuntu1) ...\n",
            "Processing triggers for libc-bin (2.27-3ubuntu1.3) ...\n",
            "/sbin/ldconfig.real: /usr/local/lib/python3.7/dist-packages/ideep4py/lib/libmkldnn.so.0 is not a symbolic link\n",
            "\n",
            "cp: '/usr/lib/chromium-browser/chromedriver' and '/usr/bin/chromedriver' are the same file\n"
          ]
        }
      ],
      "source": [
        "#install necessary packages\n",
        "!pip install selenium\n",
        "!apt-get update # to update ubuntu to correctly run apt install\n",
        "!apt install chromium-chromedriver\n",
        "!cp /usr/lib/chromium-browser/chromedriver /usr/bin"
      ]
    },
    {
      "cell_type": "code",
      "execution_count": 80,
      "metadata": {
        "colab": {
          "base_uri": "https://localhost:8080/",
          "height": 1000
        },
        "id": "bk2h6tTzM1Jv",
        "outputId": "213b45ea-1fe3-4784-e8de-834066d073e9"
      },
      "outputs": [
        {
          "name": "stderr",
          "output_type": "stream",
          "text": [
            "/usr/local/lib/python3.7/dist-packages/ipykernel_launcher.py:13: DeprecationWarning: use options instead of chrome_options\n",
            "  del sys.path[0]\n"
          ]
        },
        {
          "name": "stdout",
          "output_type": "stream",
          "text": [
            "1\n",
            "2\n",
            "3\n",
            "4\n",
            "5\n",
            "6\n",
            "7\n",
            "8\n",
            "9\n",
            "10\n",
            "11\n",
            "12\n",
            "13\n",
            "14\n",
            "15\n",
            "16\n",
            "17\n",
            "18\n",
            "19\n",
            "20\n",
            "21\n",
            "22\n",
            "23\n",
            "24\n",
            "25\n",
            "26\n",
            "27\n",
            "28\n",
            "29\n",
            "30\n",
            "31\n",
            "32\n",
            "33\n",
            "34\n",
            "35\n",
            "36\n",
            "37\n",
            "38\n",
            "39\n",
            "40\n",
            "41\n",
            "42\n",
            "43\n",
            "44\n",
            "45\n",
            "46\n",
            "47\n",
            "48\n",
            "49\n",
            "50\n",
            "51\n",
            "52\n",
            "53\n",
            "54\n",
            "55\n",
            "56\n",
            "57\n",
            "58\n",
            "59\n",
            "60\n",
            "61\n",
            "62\n",
            "63\n",
            "64\n",
            "65\n",
            "66\n",
            "67\n",
            "68\n",
            "69\n",
            "70\n",
            "71\n",
            "72\n",
            "73\n",
            "74\n",
            "75\n",
            "76\n",
            "77\n",
            "78\n",
            "79\n",
            "80\n",
            "81\n",
            "82\n",
            "83\n",
            "84\n",
            "85\n",
            "86\n",
            "87\n",
            "[('Oliver James', 'Fleet Foxes', 'Indie', 47, '2008'), ('Take This Heart of Gold', 'Mandolin Orange', 'Indie', 55, '2016'), ('Shuggie', 'Foxygen', 'Indie', 64, '2013'), ('Stompa', 'Serena Ryder', 'Indie', 48, '2012'), ('Good Thing Go', 'Quinn XCII', 'Indie', 64, '2019'), ('Sail Away', 'Møme', 'Indie', 64, '2000'), ('You Shadow', 'Sharon Van Etten', 'Indie', 58, '2019'), ('We Are Fine', 'Sharon Van Etten', 'Indie', 53, '2012'), ('No Shade in the Shadow of The Cross', 'Sufjan Stevens', 'Indie', 52, '2015'), ('I Went To The Store One Day', 'Father John Misty', 'Indie', 44, '2015'), ('OctaHate', 'Ryn Weaver', 'Indie', 52, '2014'), ('Stupid Fish', 'Cherry Glazerr', 'Indie', 44, '2019'), ('Changing of the Seasons', 'Two Door Cinema Club', 'Indie', 51, '2013'), ('push pull', 'Purity Ring', 'Indie', 49, '2014'), ('City Looks Pretty', 'Courtney Barnett', 'Indie', 49, '2018'), ('Bear Claws', 'The Academic', 'Indie', 50, '2017'), ('Forest Green', 'Big Red Machine', 'Indie', 52, '2018'), ('Dying In A Hot Tub', 'Palaye Royale', 'Indie', 59, '2018'), ('Walls Could Talk', 'Halsey', 'Indie', 69, '2017'), ('Caring Is Creepy', 'The Shins', 'Indie', 59, '2001'), ('12 Feet Deep', 'The Front Bottoms', 'Indie', 49, '2014'), ('A-Punk', 'Vampire Weekend', 'Indie', 68, '2008'), ('Good Advice', 'The Growlers', 'Indie', 44, '2014'), ('Funtimes in Babylon', 'Father John Misty', 'Indie', 56, '2012'), ('Total Zombie', 'Day Wave', 'Indie', 46, '2016'), (\"You're Nobody Till Somebody Wants You Dead\", 'Saint Motel', 'Indie', 46, '2018'), ('Came Out Swinging', 'The Wonder Years', 'Indie', 49, '2011'), ('Hunk Beach', 'The Walters', 'Indie', 48, '2015'), ('Hate To Say I Told You So', 'The Hives', 'Indie', 60, '2000'), ('Art School', 'Remo Drive', 'Indie', 50, '2017'), ('Z4L (with Bari & Jay2)', 'Smino', 'Indie', 60, '2018'), ('Pretty Much', 'Ryan Caraveo', 'Indie', 49, '2021'), ('To Be Without You', 'Ryan Adams', 'Indie', 55, '2016'), ('Get Off My Rock', 'FIDLAR', 'Indie', 50, '2019'), ('Goat 2.0 (feat. Wale)', 'Eric Bellinger', 'Indie', 55, '2018'), ('Stubborn Love', 'The Lumineers', 'Indie', 66, '2012'), ('Where the Light Is', 'Surfaces', 'Indie', 45, '2018'), ('Run the Road', 'Santigold', 'Indie', 53, '2021'), ('Take a Walk', 'Passion Pit', 'Indie', 68, '2012'), ('Black Treacle', 'Arctic Monkeys', 'Indie', 49, '2011'), ('Secret of Life', 'Lord Huron', 'Indie', 49, '2018'), ('When We Break', 'Total Giovanni', 'Indie', 65, '2015'), ('Bloodstain', 'Wrabel', 'Indie', 62, '2019'), (\"You're Not Good Enough\", 'Blood Orange', 'Indie', 63, '2014'), ('Lifted Up (1985)', 'Passion Pit', 'Indie', 50, '2015'), ('Call Off Your Dogs', 'Lake Street Dive', 'Indie', 51, '2015'), ('Digital Witness', 'St. Vincent', 'Indie', 47, '2013'), ('Only Love', 'Ben Howard', 'Indie', 74, '2011'), ('SGL', 'Now, Now', 'Indie', 49, '2018'), ('BLK CLD', 'XYLØ', 'Indie', 50, '2016'), ('Dark Center Of The Universe', 'Modest Mouse', 'Indie', 44, '2000'), ('Ragoo', 'Kings of Leon', 'Indie', 52, '2006'), ('Grand Paradise', 'Foxing', 'Indie', 47, '2018'), ('Street Spirit (Fade Out)', 'Radiohead', 'Indie', 61, '1995'), ('Throw Shade', 'CRUISR', 'Indie', 59, '2015'), ('Golden Embers', 'Mandolin Orange', 'Indie', 61, '2019'), ('Under Wraps', \"Her's\", 'Indie', 50, '2018'), ('Cousins', 'Vampire Weekend', 'Indie', 54, '2010'), ('Dead Hearts', 'Stars', 'Indie', 46, '2010'), ('Who The Fuck Are Arctic Monkeys?', 'Arctic Monkeys', 'Indie', 45, '2006'), ('You Sigh', 'Charlie Cunningham', 'Indie', 61, '2017'), ('Never Going Home', 'Hazel English', 'Indie', 51, '2017'), (\"Buzzin'\", 'Shwayze', 'Indie', 57, '2008'), ('Counting Down', 'Cut Copy', 'Indie', 54, '2017'), ('Three Rings', 'Grizzly Bear', 'Indie', 51, '2017'), ('Two-Headed Boy', 'Neutral Milk Hotel', 'Indie', 56, '1998'), ('Never Gonna Give You Up', 'The Black Keys', 'Indie', 51, '2010'), ('White Sky', 'Vampire Weekend', 'Indie', 53, '2010'), ('Belly of the Deepest Love', \"Tow'rs\", 'Indie', 50, '2014'), (\"Tonight You're Perfect\", 'New Politics', 'Indie', 50, '2013'), ('Mile High (feat. Travis Scott & Metro Boomin)', 'James Blake', 'Indie', 79, '2019'), ('Wearing Nothing', 'Dagny', 'Indie', 53, '2017'), ('Circadian Rhythm (Last Dance)', 'Silversun Pickups', 'Indie', 51, '2015'), ('Golden Trunks', 'Arctic Monkeys', 'Indie', 57, '2018'), ('Flowers in Your Hair', 'The Lumineers', 'Indie', 63, '2012'), ('Lake Michigan', 'Rogue Wave', 'Indie', 51, '2007'), ('Lonesome Love', 'Mitski', 'Indie', 55, '2018'), ('Until the Night Turns', 'Lord Huron', 'Indie', 50, '2015'), ('The Great Pixley Train Robbery', 'Cass McCombs', 'Indie', 53, '2019'), ('Christmas Card', 'Joyce Manor', 'Indie', 45, '2014'), ('Telephones', 'Vacations', 'Indie', 46, '2018'), ('Disappointing Diamonds Are the Rarest of Them All', 'Father John Misty', 'Indie', 46, '2018'), ('Arigato', 'Julie Bergan', 'Indie', 57, '2016'), ('Turtleneck', 'The National', 'Indie', 49, '2017'), ('Swing Tree', 'Discovery', 'Indie', 45, '2009'), ('Cleopatra', 'The Lumineers', 'Indie', 65, '2016'), ('Passing Through A Screen Door', 'The Wonder Years', 'Indie', 53, '2013')]\n",
            "1\n",
            "2\n",
            "3\n",
            "4\n",
            "5\n",
            "6\n",
            "7\n",
            "8\n",
            "9\n",
            "10\n",
            "11\n",
            "12\n",
            "13\n",
            "14\n",
            "15\n",
            "16\n",
            "17\n",
            "18\n",
            "19\n",
            "20\n",
            "21\n",
            "22\n",
            "23\n",
            "24\n",
            "25\n",
            "26\n",
            "27\n",
            "28\n",
            "29\n",
            "30\n",
            "31\n",
            "32\n",
            "33\n",
            "34\n",
            "35\n",
            "36\n",
            "37\n",
            "38\n",
            "39\n",
            "40\n",
            "41\n",
            "42\n",
            "43\n",
            "44\n",
            "45\n",
            "46\n",
            "47\n",
            "48\n",
            "49\n",
            "50\n",
            "51\n",
            "52\n",
            "53\n",
            "54\n",
            "55\n",
            "56\n",
            "57\n",
            "58\n",
            "59\n",
            "60\n",
            "61\n",
            "62\n",
            "63\n",
            "64\n",
            "65\n",
            "66\n",
            "67\n",
            "68\n",
            "69\n",
            "70\n",
            "71\n",
            "72\n",
            "73\n",
            "74\n",
            "75\n",
            "76\n",
            "77\n",
            "78\n",
            "79\n",
            "80\n",
            "81\n",
            "82\n",
            "83\n",
            "84\n",
            "85\n",
            "86\n",
            "87\n",
            "88\n",
            "89\n",
            "90\n",
            "91\n",
            "92\n",
            "93\n",
            "94\n",
            "95\n",
            "96\n",
            "97\n",
            "98\n",
            "[('Cherry Tree Blues', 'Tab Benoit', 'Blues', 19, '1994'), ('Trash Tongue Talker', 'Jack White', 'Blues', 32, '2012'), ('House Of Blue Lights', 'Chuck Berry', 'Blues', 35, '1974'), ('All For Us', 'Welshly Arms', 'Blues', 35, '2020'), ('So You Want It to Rain', 'Doyle Bramhall II', 'Blues', 28, '2001'), ('Eagle Birds', 'The Black Keys', 'Blues', 65, '2019'), ('Castles Made of Sand', 'Jimi Hendrix', 'Blues', 57, '1967'), ('Nizzagh Ijbal', 'Tinariwen', 'Blues', 27, '2017'), ('Sunny Day Friends', 'Diunna Greenleaf', 'Blues', 21, '2011'), ('Alimony', 'Ry Cooder', 'Blues', 27, '1970'), ('September In The Rain', 'Dinah Washington', 'Blues', 38, '1961'), ('Stop & Think It Over', 'Compulsive Gamblers', 'Blues', 27, '1996'), ('I Appear Missing', 'Queens of the Stone Age', 'Blues', 50, '2013'), ('Seven Day Fool', 'Etta James', 'Blues', 37, '1961'), ('Cheap Sunglasses', 'ZZ Top', 'Blues', 53, '1979'), ('The Kids Are Alright', 'The Who', 'Blues', 42, '1965'), (\"I'm A King Bee\", 'Slim Harpo', 'Blues', 34, '1989'), ('Thoughts and Prayers', 'The Raconteurs', 'Blues', 48, '2019'), ('DESPERATE LOVE', 'JD McPherson', 'Blues', 28, '2017'), ('Life To Fix', 'The Record Company', 'Blues', 39, '2018'), ('Light A Candle', 'JJ Grey & Mofro', 'Blues', 34, '2015'), ('Honky Tonk Night Time Man', 'Lynyrd Skynyrd', 'Blues', 29, '1977'), ('Nana Jarnell', 'Lucky Peterson', 'Blues', 34, '2014'), ('Looking for a Sweetie', 'Lonnie Johnson', 'Blues', 28, '1967'), (\"Boys, You're Welcome\", 'Mississippi John Hurt', 'Blues', 35, '1972'), ('Hello Hooray', 'Alice Cooper', 'Blues', 34, '1973'), ('Treat', 'Santana', 'Blues', 39, '1969'), ('Foo Foo', 'Santana', 'Blues', 30, '2002'), (\"Mama Don't\", 'J.J. Cale', 'Blues', 33, '1981'), ('Manic Mechanic', 'ZZ Top', 'Blues', 27, '1979'), ('Rainy Night in Georgia', 'Tony Joe White', 'Blues', 41, '1969'), ('Roses Are Free', 'Phish', 'Blues', 39, '1993'), ('Hard Day Coming Down', 'The Record Company', 'Blues', 34, '2016'), ('Wishing Well', 'Free', 'Blues', 45, '1973'), ('Gates of Dawn', 'Heartless Bastards', 'Blues', 24, '2015'), ('Tear Our Love Down', 'Sir Charles Jones', 'Blues', 0, '2014'), ('Snakes on Everything', 'Little Feat', 'Blues', 25, '1970'), ('Luckiest Man', 'The Wood Brothers', 'Blues', 58, '2006'), ('King of a One Horse Town', 'Dan Auerbach', 'Blues', 54, '2017'), ('I Guess I Should Go To Sleep', 'Jack White', 'Blues', 30, '2012'), (\"'Tain't What You Do (It's The Way That Cha Do It)\", 'Ella Fitzgerald', 'Blues', 29, '1991'), ('The Boys Are Back In Town', 'Thin Lizzy', 'Blues', 73, '1976'), (\"Goin' Back\", 'The Byrds', 'Blues', 47, '1967'), (\"I've Been Loving You Too Long\", 'Otis Redding', 'Blues', 54, '1965'), ('Ballrooms Of Mars', 'T. Rex', 'Blues', 33, '1972'), (\"God's Sure Good\", 'Dr. John', 'Blues', 23, '2012'), ('Down in da Club', 'Jackie Neal', 'Blues', 23, '2004'), (\"Let's Make a Better World\", 'Dr. John', 'Blues', 31, '2003'), (\"Whippin' Post\", 'Gregg Allman', 'Blues', 31, '2012'), ('Blue Moon', 'The Marcels', 'Blues', 47, '1961'), ('Theme from the Last Waltz - Concert Version', 'The Band', 'Blues', 36, '1978'), ('Whiskey Rock-A-Roller', 'Lynyrd Skynyrd', 'Blues', 41, '1976'), ('I Cut Like a Buffalo', 'The Dead Weather', 'Blues', 39, '2009'), ('Darling Baby', 'The Elgins', 'Blues', 44, '1966'), ('Too Much Water', 'Coco Montoya', 'Blues', 29, '1995'), ('Kid Charlemagne', 'Steely Dan', 'Blues', 46, '1976'), ('Like a Bad Girl Should', 'The Cramps', 'Blues', 33, '1997'), ('Would You Fight For My Love?', 'Jack White', 'Blues', 40, '2014'), (\"Lovin' On Borrowed Time\", 'Bobby \"Blue\" Bland', 'Blues', 24, '1974'), ('When You Fall Down', 'Blues Traveler', 'Blues', 29, '2018'), (\"Finger Poppin' Time\", 'Hank Ballard', 'Blues', 33, '1960'), ('Loving Each Other 4 Life', 'Methrone', 'Blues', 31, '2000'), ('Fever', 'Little Willie John', 'Blues', 31, '1956'), ('Blues In \"A\"', 'Eric Clapton', 'Blues', 27, '1970'), ('Dinner for Two', 'Michael Cooper', 'Blues', 27, '1987'), ('Whiskey, Beer & Wine', 'Buddy Guy', 'Blues', 35, '2015'), ('My Generation', 'The Who', 'Blues', 55, '1965'), ('Do You Qualify', 'Marvin Sease', 'Blues', 24, '2002'), ('Auto Pilot', 'Queens of the Stone Age', 'Blues', 38, '2000'), ('I Got a Woman', 'Ray Charles', 'Blues', 43, '1957'), ('Let Me Be Your Daddy', 'Lebrado', 'Blues', 25, '2009'), ('Sunglasses After Dark', 'The Cramps', 'Blues', 28, '1987'), ('If It Ever Stops Raining', 'The Black Crowes', 'Blues', 31, '2006'), ('Losing You', 'The Marshall Tucker Band', 'Blues', 31, '1973'), (\"(I've Got To) Sleep With One Eye Open\", 'Shirley Brown', 'Blues', 23, '2004'), (\"For What It's Worth\", 'Buffalo Springfield', 'Blues', 72, '1966'), ('Poison', 'Alice Cooper', 'Blues', 66, '1989'), (\"N'oubliez Jamais\", 'Joe Cocker', 'Blues', 29, '1997'), ('Clown Woman', 'Montrose', 'Blues', 2, '2000'), ('How You Like Me Now - Original', 'The Heavy', 'Blues', 37, '2009'), ('Turn That Heartbeat Over Again', 'Steely Dan', 'Blues', 41, '1972'), ('Boogie No More', 'Molly Hatchet', 'Blues', 27, '1985'), ('Hotel Yorba', 'The White Stripes', 'Blues', 50, '2001'), ('Stood By Me', 'Rival Sons', 'Blues', 40, '2019'), (\"Don't Hang Up\", 'The Orlons', 'Blues', 29, '1962'), ('Hypermisophoniac', 'Jack White', 'Blues', 29, '2018'), ('Stl. Thang', 'Wendell B', 'Blues', 31, '2005'), ('Magic Mountain', 'Eric Burdon', 'Blues', 29, '1967'), ('Haitian Divorce', 'Steely Dan', 'Blues', 42, '1976'), ('You Really Got A Hold On Me', 'The Miracles', 'Blues', 31, '1965'), ('Walk On By', 'Aretha Franklin', 'Blues', 39, '1964'), ('Take a Giant Step - 1969 Version', 'Taj Mahal', 'Blues', 39, '1969'), (\"My Boyfriend's Back\", 'The Chiffons', 'Blues', 34, '1966'), ('Sugar Babe', 'Mance Lipscomb', 'Blues', 28, '1960'), ('Side Door', 'The Marcus King Band', 'Blues', 36, '2018'), ('River Styx', 'Black Rebel Motorcycle Club', 'Blues', 27, '2010'), ('Brand New Angel', \"Gov't Mule\", 'Blues', 26, '2006'), ('Mojo Boogie', 'Johnny Winter', 'Blues', 32, '1986')]\n",
            "1\n",
            "2\n",
            "3\n",
            "4\n",
            "5\n",
            "6\n",
            "7\n",
            "8\n",
            "9\n",
            "10\n",
            "11\n",
            "12\n",
            "13\n",
            "14\n",
            "15\n",
            "16\n",
            "17\n",
            "18\n",
            "19\n",
            "20\n",
            "[('Star Wars: A Capella Strikes Back', 'BYU Noteworthy', 'A Capella', 15, '2016'), ('Sometimes I Feel Like a Motherless Child', 'The Singers Unlimited', 'A Capella', 4, '1997'), ('More I Can Not Wish You', 'The Singers Unlimited', 'A Capella', 8, '1971'), ('You Put This Love in My Heart', 'Glad', 'A Capella', 7, '1991'), ('Try to Remember', 'The Singers Unlimited', 'A Capella', 11, '1971'), ('Clair', 'The Singers Unlimited', 'A Capella', 33, '1994'), ('Crown Him With Many Crowns', 'Glad', 'A Capella', 6, '1991'), ('One More Time, Chuck Corea', 'The Singers Unlimited', 'A Capella', 4, '1997'), ('God so Loved the World', 'Glad', 'A Capella', 5, '1991'), ('Boston to Beijing', 'Tonic Sol-Fa', 'A Capella', 0, '2003'), ('The Entertainer', 'The Singers Unlimited', 'A Capella', 4, '1997'), ('Jeanie With the Light Brown Hair', 'The Singers Unlimited', 'A Capella', 5, '1997'), ('Christ the Lord is Risen Today', 'Glad', 'A Capella', 16, '1991'), (\"Since You've Asked\", 'The Singers Unlimited', 'A Capella', 6, '1997'), (\"I Don't Know Were I Stand\", 'The Singers Unlimited', 'A Capella', 9, '1975'), (\"I Don't Know Where I Stand\", 'The Singers Unlimited', 'A Capella', 5, '1975'), ('Lost in the Stars', 'The Singers Unlimited', 'A Capella', 6, '1975'), ('29 Ways to My Back Door', 'Tonic Sol-Fa', 'A Capella', 0, '2008'), ('London By Night', 'The Singers Unlimited', 'A Capella', 16, '1971'), ('Since You Asked', 'The Singers Unlimited', 'A Capella', 12, '1971')]\n",
            "1\n",
            "2\n",
            "3\n",
            "4\n",
            "5\n",
            "6\n",
            "7\n",
            "8\n",
            "9\n",
            "10\n",
            "11\n",
            "12\n",
            "13\n",
            "14\n",
            "15\n",
            "16\n",
            "17\n",
            "18\n",
            "19\n",
            "20\n",
            "21\n",
            "22\n",
            "23\n",
            "24\n",
            "25\n",
            "26\n",
            "27\n",
            "28\n",
            "29\n",
            "30\n",
            "31\n",
            "32\n",
            "33\n",
            "34\n",
            "35\n",
            "36\n",
            "37\n",
            "38\n",
            "39\n",
            "40\n",
            "41\n",
            "42\n",
            "43\n",
            "44\n",
            "45\n",
            "46\n",
            "47\n",
            "48\n",
            "49\n",
            "50\n",
            "51\n",
            "52\n",
            "[('No Se De Ella \"My Space\"', 'Don Omar', 'Reggaeton', 52, '2020'), ('Te Extraño', 'Tito \"El Bambino\"', 'Reggaeton', 27, '2009'), ('Brindemos Por Ella', 'Los 4', 'Reggaeton', 27, '2018'), ('Andas En Mi Cabeza', 'Chino & Nacho', 'Reggaeton', 74, '2012'), ('Sacando Chispa (feat. Trebol Clan & David Deambulante)', 'Nicky Jam', 'Reggaeton', 32, '2004'), ('Mírala Bien', 'Wisin & Yandel', 'Reggaeton', 63, '2005'), ('I Love Salsa', \"N'Klabe\", 'Reggaeton', 46, '2005'), ('Cuando Se Da', 'Yandel', 'Reggaeton', 50, '2017'), ('Otra Copa (feat. Farruko)', 'Justin Quiles', 'Reggaeton', 59, '2016'), ('Se Me Daña la Mente', 'Tito \"El Bambino\"', 'Reggaeton', 24, '2009'), ('La Conspiración', 'Don Chezina', 'Reggaeton', 21, '2005'), ('Corazones', 'Daddy Yankee', 'Reggaeton', 45, '2004'), ('Sé Que Todo Ha Acabado Ya', 'Pedro Suárez-Vértiz', 'Reggaeton', 44, '1996'), ('Preparte', 'Zion & Lennox', 'Reggaeton', 30, '2004'), ('Electro Movimiento', 'Calle 13', 'Reggaeton', 40, '2008'), ('Solido', 'Tito \"El Bambino\"', 'Reggaeton', 23, '2014'), ('Presiento', 'RKM', 'Reggaeton', 32, '2008'), ('Soy Peor Remix (feat. J Balvin, Ozuna & Arcangel)', 'Bad Bunny', 'Reggaeton', 67, '2016'), ('Aquí Está Tu Caldo', 'Daddy Yankee', 'Reggaeton', 54, '2007'), ('Yo Soy del Barrio', 'Yandel', 'Reggaeton', 33, '2015'), ('Piel Morena', 'Tomas the Latin Boy', 'Reggaeton', 28, '2017'), ('La Vida Me Sabe a Nada', 'Pedro Suárez-Vértiz', 'Reggaeton', 35, '1996'), ('Sandunga', 'Don Omar', 'Reggaeton', 53, '2015'), ('Llamado de emergencia', 'Daddy Yankee', 'Reggaeton', 43, '2008'), ('Estoy enamorado', 'Wisin & Yandel', 'Reggaeton', 38, '2020'), ('Honestamente', 'Justin Quiles', 'Reggaeton', 45, '2016'), ('El Bueno, El Malo Y El Feo - Dance Hall Version', 'Vico C', 'Reggaeton', 36, '2003'), ('Solo Tu Y Yo', 'Wisin & Yandel', 'Reggaeton', 29, '2008'), ('Callaíto', 'Wisin', 'Reggaeton', 35, '2015'), ('Donde Mi No Vengas', 'Daddy Yankee', 'Reggaeton', 32, '2005'), ('Dile A Tu Marido', 'Pasabordo', 'Reggaeton', 50, '2018'), ('Vamos suave', 'DrefQuila', 'Reggaeton', 43, '2018'), ('La Diabla', 'Alex Sensation', 'Reggaeton', 72, '2018'), ('Vicio De Ti', 'Wisin & Yandel', 'Reggaeton', 36, '2007'), ('Quiero Tenerte Aqui (feat. Zion & Lennox)', 'Los De La Nazza', 'Reggaeton', 25, '2015'), ('Gata Traicionera (feat. Jacob)', 'Lito y Polaco', 'Reggaeton', 27, '2003'), ('El Taqui Taqui - Original Mix', 'Ilegales', 'Reggaeton', 49, '1997'), ('Loco', 'Jowell & Randy', 'Reggaeton', 55, '2019'), ('Shower', 'Becky G', 'Reggaeton', 76, '2014'), ('Materialista', 'Proyecto Uno', 'Reggaeton', 29, '1998'), ('Ven A Mi Casa Esta Navidad', 'Voz Veis', 'Reggaeton', 26, '2007'), ('Jugando Lento', 'Guaco', 'Reggaeton', 17, '2015'), ('Claro De Luna', 'Voltio', 'Reggaeton', 21, '2006'), ('Pidiendo Calor', 'Wisin & Yandel', 'Reggaeton', 37, '2007'), ('Ven Dámelo', 'Daddy Yankee', 'Reggaeton', 35, '2007'), ('Te Busco', 'Cosculluela', 'Reggaeton', 65, '2016'), ('Dale Duro', 'Cheka', 'Reggaeton', 29, '2006'), ('Bailalo a Lo Loco', 'Jowell', 'Reggaeton', 28, '2013'), ('Psiquiatrica Loca', 'Franco \"El Gorilla\"', 'Reggaeton', 53, '2020'), ('Break a Sweat', 'Becky G', 'Reggaeton', 54, '2015'), ('Baby Rasta y Gringo', 'Baby Rasta', 'Reggaeton', 27, '2005'), ('Para Irnos (A Fuego)', 'Yandel', 'Reggaeton', 35, '2015')]\n",
            "1\n",
            "2\n",
            "3\n",
            "4\n",
            "5\n",
            "6\n",
            "7\n",
            "8\n",
            "9\n",
            "10\n",
            "11\n",
            "12\n",
            "13\n",
            "14\n",
            "15\n",
            "16\n",
            "17\n",
            "18\n",
            "19\n",
            "20\n",
            "21\n",
            "22\n",
            "23\n",
            "24\n",
            "25\n",
            "26\n",
            "27\n",
            "28\n",
            "29\n",
            "30\n",
            "31\n",
            "32\n",
            "33\n",
            "34\n",
            "35\n",
            "36\n",
            "37\n",
            "38\n",
            "39\n",
            "40\n",
            "41\n",
            "42\n",
            "43\n",
            "44\n",
            "45\n",
            "46\n",
            "47\n",
            "48\n",
            "49\n",
            "50\n",
            "51\n",
            "52\n",
            "53\n",
            "54\n",
            "55\n",
            "56\n",
            "57\n",
            "58\n",
            "59\n",
            "60\n",
            "61\n",
            "62\n",
            "63\n",
            "64\n",
            "65\n",
            "66\n",
            "67\n",
            "68\n",
            "69\n",
            "70\n",
            "71\n",
            "72\n",
            "73\n",
            "74\n",
            "75\n",
            "76\n",
            "77\n",
            "78\n",
            "79\n",
            "80\n",
            "81\n",
            "82\n",
            "83\n",
            "84\n",
            "85\n",
            "86\n",
            "87\n",
            "88\n",
            "89\n",
            "90\n",
            "91\n",
            "92\n",
            "[('I Go To Sleep', 'Anika', 'Folk', 58, '2010'), ('Dooley', 'The Dillards', 'Folk', 41, '1973'), ('Norway', 'Beach House', 'Folk', 44, '2010'), ('Poison Oak', 'Bright Eyes', 'Folk', 45, '2016'), ('Dripping Sun', 'Kikagaku Moyo', 'Folk', 47, '2018'), ('Tell Her No', 'The Zombies', 'Folk', 44, '1964'), ('Bloody Mother Fucking Asshole', 'Martha Wainwright', 'Folk', 51, '2005'), ('Graceless', 'The National', 'Folk', 55, '2013'), ('Georgia', 'Vance Joy', 'Folk', 73, '2014'), ('Still Want UUU', 'Zak Abel', 'Folk', 59, '2017'), ('City Looks Pretty', 'Courtney Barnett', 'Folk', 49, '2018'), (\"We're Through\", 'The Hollies', 'Folk', 59, '1964'), ('Up With People', 'Lambchop', 'Folk', 42, '1999'), ('Song for Zula', 'Phosphorescent', 'Folk', 54, '2013'), ('Stubborn Love', 'The Lumineers', 'Folk', 66, '2012'), ('Yellow Submarine', 'Raffi', 'Folk', 40, '2002'), (\"Could've Been\", 'Rhys Lewis', 'Folk', 59, '2018'), ('The Wilds', 'Henry Jamison', 'Folk', 46, '2017'), ('Season of the Witch', 'Donovan', 'Folk', 57, '1966'), ('Buoys', 'Panda Bear', 'Folk', 53, '2019'), ('House of Winston', 'Shakey Graves', 'Folk', 43, '2014'), ('I Can Feel a Hot One', 'Manchester Orchestra', 'Folk', 53, '2009'), ('Absolutely', 'Ra Ra Riot', 'Folk', 53, '2016'), ('Brandy Alexander', 'Feist', 'Folk', 39, '2007'), ('She Burns', 'Foy Vance', 'Folk', 53, '2016'), ('Kick Drum Heart', 'The Avett Brothers', 'Folk', 49, '2009'), ('The Fire Down Below', 'Bob Seger', 'Folk', 50, '1976'), ('Make It with You', 'Bread', 'Folk', 63, '1970'), ('Reason To Hate You', 'Rhys Lewis', 'Folk', 57, '2017'), ('500 Channels', 'Choking Victim', 'Folk', 48, '1995'), (\"The Chemical Worker's Song (Process Man)\", 'Great Big Sea', 'Folk', 44, '1996'), ('Peace of Mind', 'Boston', 'Folk', 69, '1976'), ('The Singleman Party Foxtrot', 'Simon & Garfunkel', 'Folk', 45, '1968'), ('Through a Glass', 'Henry Jamison', 'Folk', 59, '2017'), ('Hey Baby Hey', 'Greg Brown', 'Folk', 42, '1996'), ('Take It to the Limit - Eagles 2013 Remaster', 'Eagles', 'Folk', 62, '1975'), ('Fake Empire (Live in Brussels)', 'The National', 'Folk', 47, '2007'), ('I Saw You Close Your Eyes', 'Local Natives', 'Folk', 61, '2016'), ('Twenty Twelve', 'Matt Maeson', 'Folk', 51, '2017'), ('Joik #3', 'Blind Pilot', 'Folk', 41, '2016'), ('Behind Blue Eyes', 'The Who', 'Folk', 58, '1971'), ('Put on, Cologne', 'Donovan Woods', 'Folk', 49, '2013'), ('You’ve Got a Woman', 'Whitney', 'Folk', 51, '2017'), (\"What I'm Doing Here\", 'Lake Street Dive', 'Folk', 45, '2015'), ('I Wish I Was Sober', 'Frightened Rabbit', 'Folk', 44, '2016'), ('Bleecker Street', 'Simon & Garfunkel', 'Folk', 51, '1964'), ('Na Na Hey Hey Kiss Him Goodbye', 'Steam', 'Folk', 38, '1969'), ('The Suburbs', 'Arcade Fire', 'Folk', 68, '2010'), ('Here My Love', 'Jessica Pratt', 'Folk', 42, '2019'), ('Hudson Commodore', 'Jason Isbell', 'Folk', 43, '2015'), ('Licking An Orchid', 'Yves Tumor', 'Folk', 54, '2018'), ('Stay (Acoustic)', 'Lisa Loeb', 'Folk', 51, '1994'), ('11 Blocks', 'Wrabel', 'Folk', 65, '2019'), ('Call Off Your Dogs', 'Lake Street Dive', 'Folk', 51, '2015'), ('Every Single Night', 'Fiona Apple', 'Folk', 47, '2012'), ('Army', 'Ben Folds Five', 'Folk', 45, '1999'), ('Sometimes a Fantasy', 'Billy Joel', 'Folk', 48, '1980'), ('I Live For You', 'George Harrison', 'Folk', 57, '1970'), ('Facing West', 'The Staves', 'Folk', 40, '2012'), ('As Needed', 'Beirut', 'Folk', 46, '2015'), ('No Other', 'Gene Clark', 'Folk', 44, '1974'), ('The Air That I Breathe - 2008 Remastered Version', 'The Hollies', 'Folk', 64, '1973'), (\"That's How I Got To Memphis\", 'Tom T. Hall', 'Folk', 51, '1972'), ('How Can You Sleep at Night?', 'Tom Walker', 'Folk', 60, '2019'), (\"Saint Dominic's Preview\", 'Van Morrison', 'Folk', 51, '1972'), ('Big Black Heart', 'Better Oblivion Community Center', 'Folk', 55, '2019'), (\"Every Time I'm Ready to Hug\", 'Ra Ra Riot', 'Folk', 60, '2016'), ('Hypersonic Missiles', 'Sam Fender', 'Folk', 57, '2019'), ('In Green (feat. Sarah Quintana)', 'Generationals', 'Folk', 56, '2016'), ('Different Days', 'Jason Isbell', 'Folk', 41, '2013'), ('Slow Show', 'The National', 'Folk', 48, '2007'), ('Closer to Fine', 'Indigo Girls', 'Folk', 57, '1989'), ('Broom People', 'The Mountain Goats', 'Folk', 39, '2005'), ('Isa', 'Wardruna', 'Folk', 37, '2016'), ('No Wrong', 'Bahamas', 'Folk', 58, '2017'), ('Let Me Roll It - Remastered 2010', 'Paul McCartney', 'Folk', 54, '1973'), ('Turn to Stone', 'Electric Light Orchestra', 'Folk', 63, '1977'), ('Convention', 'Julia Jacklin', 'Folk', 42, '2018'), ('Jubilee Road', 'Tom Odell', 'Folk', 56, '2018'), ('Up To The Mountain (MLK Song)', 'Patty Griffin', 'Folk', 42, '2007'), ('Along Comes Mary', 'The Association', 'Folk', 43, '1966'), ('Everything Is Awful', 'The Decemberists', 'Folk', 40, '2018'), ('Painter Song', 'Norah Jones', 'Folk', 51, '2002'), ('Real Peach', 'Henry Jamison', 'Folk', 69, '2017'), (\"Don't Cry For Me\", 'Mat Kearney', 'Folk', 42, '2018'), ('Everybody Here Wants You', 'Jeff Buckley', 'Folk', 51, '1998'), ('If I Was The Devil', 'Justin Townes Earle', 'Folk', 46, '2017'), ('What Chaos is Imaginary', 'Girlpool', 'Folk', 44, '2019'), ('Bodhisattva', 'Steely Dan', 'Folk', 48, '1973'), ('Postcards From Hell', 'The Wood Brothers', 'Folk', 56, '2008'), ('Only', 'RY X', 'Folk', 54, '2016'), ('Anemone', 'The Brian Jonestown Massacre', 'Folk', 58, '1996')]\n",
            "1\n",
            "2\n",
            "3\n",
            "4\n",
            "5\n",
            "6\n",
            "7\n",
            "8\n",
            "9\n",
            "10\n",
            "11\n",
            "12\n",
            "13\n",
            "14\n",
            "15\n",
            "16\n",
            "17\n",
            "18\n",
            "19\n",
            "20\n",
            "21\n",
            "22\n",
            "23\n",
            "24\n",
            "25\n",
            "26\n",
            "27\n",
            "28\n",
            "29\n",
            "30\n",
            "31\n",
            "32\n",
            "33\n",
            "34\n",
            "35\n",
            "36\n",
            "37\n",
            "38\n",
            "39\n",
            "40\n",
            "41\n",
            "42\n",
            "43\n",
            "44\n",
            "45\n",
            "46\n",
            "47\n",
            "48\n",
            "49\n",
            "50\n",
            "51\n",
            "52\n",
            "53\n",
            "54\n",
            "55\n",
            "56\n",
            "57\n",
            "58\n",
            "59\n",
            "60\n",
            "61\n",
            "62\n",
            "63\n",
            "64\n",
            "65\n",
            "66\n",
            "67\n",
            "68\n",
            "69\n",
            "70\n",
            "71\n",
            "72\n",
            "73\n",
            "74\n",
            "75\n",
            "76\n",
            "77\n",
            "78\n",
            "[('When I Need You', 'Donny Osmond', 'Movie', 11, '2007'), ('Wheels of a Dream', 'Audra McDonald', 'Movie', 34, '1998'), ('Into the Glade', 'Alan Menken', 'Movie', 12, '1995'), ('Contrôle', 'L5', 'Movie', 14, '2002'), ('Do You Dream of Me', 'Dorothée', 'Movie', 0, '2018'), ('Il pleut bergère', 'Dorothée', 'Movie', 0, '1990'), ('Faire comme si', 'Camille Lou', 'Movie', 26, '2015'), ('Le Scaphandrier', 'Henri Salvador', 'Movie', 1, '2003'), (\"L'eau vive\", 'Dorothée', 'Movie', 0, '1985'), ('Bonnie Wee Lassie', 'Shelby Flint', 'Movie', 1, '1963'), ('God Is Always There For You', 'Jodi Benson', 'Movie', 22, '1995'), ('La REINE', 'Lorie', 'Movie', 17, '2007'), ('Si Filemon', 'Lea Salonga', 'Movie', 10, '2017'), ('Gentil Coquelicot', 'Christiane Legrand', 'Movie', 1, '2007'), ('How Does A Moment Last Forever (Montmartre) - Demo', 'Alan Menken', 'Movie', 40, '2017'), (\"Yo Ho (A Pirate's Life for Me)\", 'Disney Studio Chorus', 'Movie', 26, '2013'), ('Pavement Artist', 'Dick Van Dyke', 'Movie', 26, '1963'), ('Come Where My Love Lies Dreaming', 'The Mellomen', 'Movie', 1, '1955'), ('A Father Makes A Difference', 'Randy Newman', 'Movie', 10, '1984'), ('Reniements', 'Francis Lalanne', 'Movie', 0, '2003'), ('Salvador Plays The Blues', 'Henri Salvador', 'Movie', 5, '2000'), ('The Whammer Strikes Out', 'Randy Newman', 'Movie', 13, '1984'), ('Camelot: The Lusty Month of May', 'Julie Andrews', 'Movie', 28, '1959'), ('Faut Rigoler', 'Henri Salvador', 'Movie', 5, '1998'), ('A Whole New World - From \"Aladdin\"', 'Lea Salonga', 'Movie', 15, '1992'), ('Le petit souper aux chandelles', 'Henri Salvador', 'Movie', 0, '2001'), (\"Mon p'tit gars\", 'Dorothée', 'Movie', 1, '1994'), ('Hello Louise', 'Daniel Lavoie', 'Movie', 1, '1994'), ('Le Marchand de sable', 'Henri Salvador', 'Movie', 0, '2001'), ('Zip a Dou Da - Remastered', 'Henri Salvador', 'Movie', 4, '2021'), ('Falling In Love With Love', 'Julie Andrews', 'Movie', 8, '2009'), ('Un Nouveau Jour', 'Anthony Kavanagh', 'Movie', 2, '2006'), ('Sail Away', 'Randy Newman', 'Movie', 24, '1972'), ('The Piston Cup', 'Randy Newman', 'Movie', 33, '2006'), (\"Bon Dieu Qu'elle Est Con\", 'Henri Salvador', 'Movie', 1, '2002'), ('Oozma Kappa', 'Randy Newman', 'Movie', 16, '2013'), ('Vishambhari Stuti', 'Chorus', 'Movie', 0, '2004'), ('The Professional Game', 'Randy Newman', 'Movie', 3, '2008'), ('The Three Good Fairies (Sing a Smiling Song)', 'George Bruns', 'Movie', 9, '1958'), ('Engagement Party - From \"La La Land\" Soundtrack', 'Justin Hurwitz', 'Movie', 63, '2016'), (\"Au Revoir, C'est La Vie\", 'Chantal Goya', 'Movie', 2, '2007'), ('Doudou', 'Henri Salvador', 'Movie', 0, '2009'), ('The Mouseketeers March', 'The Mouseketeers', 'Movie', 10, '2006'), (\"Où se cache l'amour ?\", 'Dorothée', 'Movie', 1, '2018'), ('Minnie, My Mountain Moocher', 'Cliff Edwards', 'Movie', 1, '2013'), ('The Big Scare', 'Randy Newman', 'Movie', 21, '2013'), ('Headed For The Game (Maverick - Original Motion Picture Score) - Remastered', 'Randy Newman', 'Movie', 4, '1994'), (\"Let's Go Fly a Kite\", 'David Tomlinson', 'Movie', 22, '2009'), ('A Piece of the Pie', 'Randy Newman', 'Movie', 8, '2008'), ('The Majors: The Mind Is A Strange Thing', 'Randy Newman', 'Movie', 10, '1984'), ('My Gift Is You', 'Leslie Whitely', 'Movie', 6, '2006'), ('Any Dream Will Do - Live', 'Donny Osmond', 'Movie', 15, '2001'), ('When I Look at You - Reprise', 'Terry Mann', 'Movie', 22, '1998'), (\"3 Little Pigs: Who's Afraid of the Big Bad Wolf\", 'Frank Churchill', 'Movie', 0, '1998'), (\"Je n'ai pas su te prendre, te comprendre\", 'Bernard Minet', 'Movie', 3, '1991'), ('On a Turquoise Cloud', 'Audra McDonald', 'Movie', 3, '2002'), ('Little House, Little House', 'Disney Studio Chorus', 'Movie', 10, '2010'), ('Green And Yellow Basket', 'Hayley Mills', 'Movie', 1, '1962'), ('The Lonely Goatherd', 'Julie Andrews', 'Movie', 47, '1965'), ('On A Dark Night', 'Alan Menken', 'Movie', 34, '1992'), ('Le collège des cœurs brisés', 'Dorothée', 'Movie', 3, '1991'), (\"I Love the Way You're Breaking My Heart\", 'Judy Kuhn', 'Movie', 19, '2013'), ('When I Talk To You', 'Mandy Moore', 'Movie', 14, '2001'), ('La Vie Grise', 'Henri Salvador', 'Movie', 0, '2001'), ('Along Came Bialy', 'Nathan Lane', 'Movie', 28, '2001'), ('Le loup, la biche et le chevalier (Une chanson douce)', 'Henri Salvador', 'Movie', 0, '2012'), (\"En sortant de l'école\", 'Dorothée', 'Movie', 2, '1985'), ('The Laughing Song', 'Craig Toungate', 'Movie', 7, '2006'), ('One Dream', 'Donny Osmond', 'Movie', 6, '2004'), ('Meunier tu dors', 'Dorothée', 'Movie', 0, '1981'), ('Tout le monde', 'Emmanuel Moire', 'Movie', 16, '2015'), ('Symphony No. 6 (Pastoral) OP 68, II Andante Molto Mosso', 'Leopold Stokowski', 'Movie', 11, '2015'), ('Ted Farley Sequence', 'Howard Ashman', 'Movie', 0, '2008'), ('Appuie sur ton piano', 'Dorothée', 'Movie', 16, '2006'), ('Winspector', 'Bernard Minet', 'Movie', 5, '2018'), ('I Love to Travel', 'Nathan Lane', 'Movie', 10, '2005'), ('Visite de Frollo à Esméralda - Live', 'Daniel Lavoie', 'Movie', 8, '1999'), ('I Lost My Heart At the Ball - Demo Recording', 'Larry Morey', 'Movie', 9, '2012')]\n",
            "1\n",
            "2\n",
            "3\n",
            "4\n",
            "5\n",
            "6\n",
            "7\n",
            "8\n",
            "9\n",
            "10\n",
            "11\n",
            "12\n",
            "13\n",
            "14\n",
            "15\n",
            "16\n",
            "17\n",
            "18\n",
            "19\n",
            "20\n",
            "21\n",
            "22\n",
            "23\n",
            "24\n",
            "25\n",
            "26\n",
            "27\n",
            "28\n",
            "29\n",
            "30\n",
            "31\n",
            "32\n",
            "33\n",
            "34\n",
            "35\n",
            "36\n",
            "37\n",
            "38\n",
            "39\n",
            "40\n",
            "41\n",
            "42\n",
            "43\n",
            "44\n",
            "45\n",
            "46\n",
            "47\n",
            "48\n",
            "49\n",
            "50\n",
            "51\n",
            "52\n",
            "53\n",
            "54\n",
            "55\n",
            "56\n",
            "57\n",
            "58\n",
            "59\n",
            "60\n",
            "61\n",
            "62\n",
            "63\n",
            "64\n",
            "65\n",
            "66\n",
            "67\n",
            "68\n",
            "69\n",
            "70\n",
            "71\n",
            "72\n",
            "73\n",
            "74\n",
            "75\n",
            "76\n",
            "77\n",
            "78\n",
            "79\n",
            "80\n",
            "81\n",
            "82\n",
            "83\n",
            "84\n",
            "85\n",
            "86\n",
            "87\n",
            "88\n",
            "89\n",
            "90\n",
            "91\n",
            "92\n",
            "93\n",
            "94\n",
            "[('How to Love (feat. Sofia Reyes)', 'Cash Cash', 'Dance', 50, '2016'), ('Close As Strangers', '5 Seconds of Summer', 'Dance', 57, '2016'), ('Mala Gente', 'Juanes', 'Dance', 54, '2000'), ('Jealous', 'Beyoncé', 'Dance', 58, '2013'), ('How Many Drinks?', 'Miguel', 'Dance', 61, '2012'), ('Rich Girl', 'Gwen Stefani', 'Dance', 61, '2002'), ('How Low', 'Ludacris', 'Dance', 62, '2009'), ('Tanto Para Nada', 'Luis Fonsi', 'Dance', 60, '2019'), ('Little of Your Love', 'HAIM', 'Dance', 55, '2017'), ('Rechazame', 'Prince Royce', 'Dance', 56, '2010'), ('If I Was A Folkstar', 'The Avalanches', 'Dance', 50, '2016'), ('Niggas', 'Kehlani', 'Dance', 58, '2015'), ('Welcome To New York', 'Taylor Swift', 'Dance', 60, '2014'), ('True Feeling', 'Galantis', 'Dance', 60, '2017'), (\"Don't Forget About Us\", 'Mariah Carey', 'Dance', 56, '2005'), ('Tambourine', 'Eve', 'Dance', 58, '2005'), ('Arty Boy', 'Flight Facilities', 'Dance', 44, '2017'), ('Is There Somewhere', 'Halsey', 'Dance', 65, '2014'), ('All The Things She Said - Original Album Version (Edited)', 't.A.T.u.', 'Dance', 41, '2002'), ('Don’t Stop The Party', 'The Black Eyed Peas', 'Dance', 60, '2011'), ('Pachuca Sunrise', 'Minus the Bear', 'Dance', 48, '2005'), ('Poppin Bottles (feat. Drake)', 'T.I.', 'Dance', 54, '2010'), ('Memories Back Then', 'T.I.', 'Dance', 54, '2013'), ('Mad Hatter', 'Melanie Martinez', 'Dance', 69, '2015'), ('The Trailer Song', 'Kacey Musgraves', 'Dance', 47, '2014'), (\"If It's Lovin' That You Want\", 'Rihanna', 'Dance', 53, '2003'), ('Holding Back the Years - 2008 Remaster', 'Simply Red', 'Dance', 68, '1985'), ('Main Chick (feat. Chris Brown)', 'Kid Ink', 'Dance', 64, '2013'), ('CLAUSTROPHOBIA', '3OH!3', 'Dance', 53, '2016'), ('Papercut', 'Zedd', 'Dance', 56, '2015'), ('Human Behaviour', 'Björk', 'Dance', 50, '1993'), (\"Old 45's\", 'Chromeo', 'Dance', 48, '2014'), ('I Heard a Rumour', 'Bananarama', 'Dance', 49, '1985'), ('Exits', 'Foals', 'Dance', 63, '2019'), ('My Time', 'Fabolous', 'Dance', 54, '2009'), ('Let Me Go (with Alesso, Florida Georgia Line & watt)', 'Hailee Steinfeld', 'Dance', 85, '2017'), ('Plot Twist', 'Marc E. Bassy', 'Dance', 64, '2016'), ('Ghost Town', 'The Specials', 'Dance', 60, '1980'), ('Break Your Heart', 'Taio Cruz', 'Dance', 65, '2009'), (\"Let's Get It Started - Spike Mix\", 'The Black Eyed Peas', 'Dance', 58, '2003'), ('Delirious (Boneless)', 'Steve Aoki', 'Dance', 60, '2014'), ('Surf, Pt. 1', 'Foals', 'Dance', 0, '2019'), ('Good For You', 'Selena Gomez', 'Dance', 64, '2015'), ('7 Days', 'Alessia Cara', 'Dance', 59, '2018'), ('Stereo Hearts (feat. Adam Levine)', 'Gym Class Heroes', 'Dance', 77, '2011'), ('Sugar', 'Robin Schulz', 'Dance', 0, '2015'), ('Three Seed', 'Silversun Pickups', 'Dance', 52, '2006'), (\"I'm That Bitch (feat. Saweetie)\", 'David Guetta', 'Dance', 47, '2018'), (\"Here's to Never Growing Up\", 'Avril Lavigne', 'Dance', 57, '2013'), ('Made Love First', 'Marc E. Bassy', 'Dance', 65, '2017'), ('Angel', 'Akon', 'Dance', 53, '2010'), ('The Half', 'DJ Snake', 'Dance', 61, '2016'), ('Magic Stick', \"Lil' Kim\", 'Dance', 58, '2003'), ('Dance Like Yo Daddy', 'Meghan Trainor', 'Dance', 49, '2016'), ('Song Goes Off', 'Trey Songz', 'Dance', 61, '2017'), ('Turn Off The Light (feat. Elvira, Mistress of the Dark)', 'Kim Petras', 'Dance', 52, '2018'), ('Borderline', 'Madonna', 'Dance', 56, '1983'), ('If This Was A Movie', 'Taylor Swift', 'Dance', 51, '2010'), ('No You Girls', 'Franz Ferdinand', 'Dance', 59, '2009'), ('No Such Thing', 'Sara Bareilles', 'Dance', 0, '2019'), ('Never Let Me Down Again - 2006 Remastered Version', 'Depeche Mode', 'Dance', 50, '1985'), ('I Wanna Be', 'Chris Brown', 'Dance', 45, '2007'), ('Bitches N Marijuana', 'Chris Brown', 'Dance', 65, '2015'), (\"She's On My Mind\", 'JP Cooper', 'Dance', 67, '2017'), ('Cherry-coloured Funk', 'Cocteau Twins', 'Dance', 61, '1990'), ('Honey', 'Mariah Carey', 'Dance', 60, '1997'), (\"Can't Have\", 'Pitbull', 'Dance', 50, '2017'), (\"It's My Life\", 'No Doubt', 'Dance', 58, '2003'), ('Right Round', 'Flo Rida', 'Dance', 73, '2009'), (\"Brad Pitt's Cousin (feat. Xperience)\", 'Macklemore & Ryan Lewis', 'Dance', 53, '2016'), ('Please Be Mine', 'Jonas Brothers', 'Dance', 49, '2006'), ('Chi Chi (feat. Chris Brown)', 'Trey Songz', 'Dance', 76, '2019'), ('A New Day Has Come - Radio Remix', 'Céline Dion', 'Dance', 56, '2002'), (\"Ain't Got Far To Go\", 'Jess Glynne', 'Dance', 48, '2015'), ('Song About You', 'Mike Posner', 'Dance', 62, '2018'), ('Into You (feat. Fabolous)', 'Tamia', 'Dance', 64, '2019'), ('Stella Was a Diver and She Was Always Down', 'Interpol', 'Dance', 49, '2002'), ('So Close', 'NOTD', 'Dance', 86, '2020'), ('Ciao Adios', 'Anne-Marie', 'Dance', 71, '2017'), ('We Are Family', 'Sister Sledge', 'Dance', 70, '1969'), (\"Even When The Water's Cold\", '!!!', 'Dance', 61, '2013'), ('Take Me To The River - 2005 Remastered Version', 'Talking Heads', 'Dance', 58, '1978'), ('I Am The Best', '2NE1', 'Dance', 65, '2011'), ('Another Round (feat. Chris Brown)', 'Fat Joe', 'Dance', 52, '2011'), ('Policy Of Truth - 2006 Remastered Version', 'Depeche Mode', 'Dance', 56, '1989'), ('Jennie (feat. R. City, Bori)', 'Felix Jaehn', 'Dance', 73, '2018'), ('Do The Astral Plane', 'Flying Lotus', 'Dance', 51, '2010'), (\"We Be Burnin' (Recognize It)\", 'Sean Paul', 'Dance', 56, '2005'), ('Gut Feeling', 'Peter Bjorn and John', 'Dance', 60, '2018'), ('In Vain', 'Sigrid', 'Dance', 0, '2019'), ('She Wolf (Falling to Pieces) (feat. Sia)', 'David Guetta', 'Dance', 54, '2012'), ('Trying To Be Cool', 'Phoenix', 'Dance', 42, '2013'), ('Buttons', 'Sia', 'Dance', 41, '2008'), ('Care Less More', \"Olivia O'Brien\", 'Dance', 64, '2018')]\n",
            "1\n",
            "2\n",
            "3\n",
            "4\n",
            "5\n",
            "6\n",
            "7\n",
            "8\n",
            "9\n",
            "10\n",
            "11\n",
            "12\n",
            "13\n",
            "14\n",
            "15\n",
            "16\n",
            "17\n",
            "18\n",
            "19\n",
            "20\n",
            "21\n",
            "22\n",
            "23\n",
            "24\n",
            "25\n",
            "26\n",
            "27\n",
            "28\n",
            "29\n",
            "30\n",
            "31\n",
            "32\n",
            "33\n",
            "34\n",
            "35\n",
            "36\n",
            "37\n",
            "38\n",
            "39\n",
            "40\n",
            "41\n",
            "42\n",
            "43\n",
            "44\n",
            "45\n",
            "46\n",
            "47\n",
            "48\n",
            "49\n",
            "50\n",
            "51\n",
            "52\n",
            "53\n",
            "54\n",
            "55\n",
            "56\n",
            "57\n",
            "58\n",
            "59\n",
            "60\n",
            "61\n",
            "62\n",
            "63\n",
            "64\n",
            "65\n",
            "66\n",
            "67\n",
            "68\n",
            "69\n",
            "70\n",
            "71\n",
            "72\n",
            "73\n",
            "74\n",
            "75\n",
            "76\n",
            "77\n",
            "78\n",
            "79\n",
            "[('Warm Magic', 'Jadu Heart', 'Soul', 43, '2017'), ('All I', 'Jill Scott', 'Soul', 34, '2007'), ('Just Do You', 'India.Arie', 'Soul', 39, '2013'), ('Motivation', 'Kelly Rowland', 'Soul', 70, '2011'), ('A Change Is Gonna Come', 'Sam Cooke', 'Soul', 67, '1964'), ('Young Hearts Run Free', 'Candi Staton', 'Soul', 65, '1976'), ('Get Right Back To My Baby', 'Vivian Green', 'Soul', 50, '2015'), ('I Should Be...', 'Dru Hill', 'Soul', 42, '2002'), ('Babyfather', 'Sade', 'Soul', 50, '2009'), ('Warm on a Cold Night', 'HONNE', 'Soul', 53, '2015'), ('All of Me (feat. Jennifer Nettles & Hunter Hayes)', 'John Legend', 'Soul', 43, '2013'), ('Go Thru Your Phone - Live', 'PJ Morton', 'Soul', 41, '2017'), ('See See Rider', 'LaVern Baker', 'Soul', 47, '1962'), ('Like A Star', 'Corinne Bailey Rae', 'Soul', 64, '1995'), (\"Jump, Jive, An' Wail - Remastered\", 'Louis Prima', 'Soul', 39, '1957'), ('Staring at the Ceiling (feat. James Petralli)', 'The Echocentrics', 'Soul', 41, '2016'), ('Hotel Beds', 'Elder Island', 'Soul', 56, '2017'), ('Tar Baby', 'Sade', 'Soul', 47, '1998'), ('Even Angels', 'Fantasia', 'Soul', 43, '2010'), (\"Can't Believe (feat. Carl Thomas)\", 'Faith Evans', 'Soul', 47, '2001'), ('The Love You Save (May Be Your Own)', 'Joe Tex', 'Soul', 37, '1966'), ('Respect Yourself', 'The Staple Singers', 'Soul', 57, '1970'), ('Might Not', 'Belly', 'Soul', 68, '2015'), ('Your Love Will Blow Me Away When My Heart Aches', 'Son Little', 'Soul', 37, '2014'), ('Pink + White', 'Frank Ocean', 'Soul', 77, '2016'), ('Long Tall Sally', 'Little Richard', 'Soul', 63, '1956'), ('Right Here (Departed)', 'Brandy', 'Soul', 51, '2008'), ('Three Faces', 'Menahan Street Band', 'Soul', 42, '2012'), (\"You're Messing Up A Good Thing\", 'Bobby Womack', 'Soul', 45, '1999'), ('I Only Want To Be With You', 'Dusty Springfield', 'Soul', 51, '1964'), ('Daunt', 'Jelani Aryeh', 'Soul', 52, '2018'), ('Melt My Heart To Stone', 'Adele', 'Soul', 58, '2008'), (\"Can't Fight the Feeling\", 'Charles Bradley', 'Soul', 45, '2018'), ('And the Beat Goes On', 'The Whispers', 'Soul', 50, '1969'), ('The Message', 'Cymande', 'Soul', 49, '1972'), ('Down For You', 'Ta-ku', 'Soul', 51, '2015'), ('Paia', 'Wild Ones', 'Soul', 44, '2014'), ('Do It Good', 'Bill Withers', 'Soul', 40, '1971'), ('Raincoats', 'Maribou State', 'Soul', 48, '2015'), (\"I'm The One Who Knows\", 'Brenton Wood', 'Soul', 44, '1966'), ('Death by Disco', 'TOKiMONSTA', 'Soul', 40, '2010'), ('Contusion', 'Stevie Wonder', 'Soul', 41, '1976'), (\"Hold On, I'm Comin'\", 'Sam & Dave', 'Soul', 69, '1966'), ('Dear To Me', 'Electric Guest', 'Soul', 59, '2016'), (\"That's All I Need To Know\", 'Sam Cooke', 'Soul', 42, '1965'), ('Body Sun', 'RY X', 'Soul', 56, '2020'), ('Rub You The Right Way', 'Johnny Gill', 'Soul', 48, '1990'), ('Love Jones', 'Brighter Side of Darkness', 'Soul', 31, '1972'), ('Pais e filhos', 'Tim Maia', 'Soul', 5, '1978'), (\"Un-thinkable (I'm Ready)\", 'Alicia Keys', 'Soul', 64, '2009'), ('Love Yourself', 'Mary J. Blige', 'Soul', 41, '2017'), ('Promise', 'Jagged Edge', 'Soul', 57, '2000'), ('Pencil Full of Lead', 'Paolo Nutini', 'Soul', 52, '2009'), ('Treated Like The Weather', 'Slum Sociable', 'Soul', 46, '2017'), (\"Isn't That Enough\", 'Chaka Khan', 'Soul', 45, '2019'), ('Talk to Me Pt. II', 'Craig David', 'Soul', 50, '2018'), (\"You've Got A Friend\", 'Al Green', 'Soul', 36, '1987'), ('Shining Star', 'The Manhattans', 'Soul', 51, '1980'), ('In My Bed', 'Dru Hill', 'Soul', 45, '1996'), ('If It Feels Good (Then It Must Be)', 'Leon Bridges', 'Soul', 63, '2018'), ('Wreckless Love', 'Alicia Keys', 'Soul', 49, '2007'), ('Trouble, Heartaches & Sadness', 'Ann Peebles', 'Soul', 45, '2005'), (\"Lovin' in My Baby's Eyes\", 'Taj Mahal', 'Soul', 50, '1996'), ('L-O-V-E (Love)', 'Al Green', 'Soul', 39, '1975'), ('Uptight Good Woman', 'Solomon Burke', 'Soul', 42, '1988'), ('Creep On Me (feat. French Montana & DJ Snake) - QUIX Remix', 'GASHI', 'Soul', 63, '2018'), ('We Stayed Up All Night', 'Tourist', 'Soul', 56, '2017'), (\"Ain't No Mountain High Enough - Mono\", 'Marvin Gaye', 'Soul', 79, '2008'), (\"What Do You Do When You've Found Love?\", 'Shy Girls', 'Soul', 29, '2019'), ('Stop, Look, Listen - To Your Heart', 'The Stylistics', 'Soul', 38, '1971'), ('Summer', 'War', 'Soul', 34, '1987'), ('LoveKills!!!', '9th Wonder', 'Soul', 44, '2018'), ('American Daydream', 'Electric Guest', 'Soul', 46, '2011'), ('Cold Shoulder', 'Adele', 'Soul', 50, '2008'), (\"Love's In Need Of Love Today\", 'Phil Perry', 'Soul', 53, '2017'), ('Thick Skin', 'Leona Lewis', 'Soul', 56, '2015'), ('I Keep', 'Jill Scott', 'Soul', 35, '2004'), ('Handheld GPS', 'Rexx Life Raj', 'Soul', 50, '2016'), ('Make Her Mine', 'Mayer Hawthorne', 'Soul', 36, '2009')]\n",
            "1\n",
            "2\n",
            "3\n",
            "4\n",
            "5\n",
            "6\n",
            "7\n",
            "8\n",
            "9\n",
            "10\n",
            "11\n",
            "12\n",
            "13\n",
            "14\n",
            "15\n",
            "16\n",
            "17\n",
            "18\n",
            "19\n",
            "20\n",
            "21\n",
            "22\n",
            "23\n",
            "24\n",
            "25\n",
            "26\n",
            "27\n",
            "28\n",
            "29\n",
            "30\n",
            "31\n",
            "32\n",
            "33\n",
            "34\n",
            "35\n",
            "36\n",
            "37\n",
            "38\n",
            "39\n",
            "40\n",
            "41\n",
            "42\n",
            "43\n",
            "44\n",
            "45\n",
            "46\n",
            "47\n",
            "48\n",
            "49\n",
            "50\n",
            "51\n",
            "52\n",
            "53\n",
            "54\n",
            "55\n",
            "56\n",
            "57\n",
            "58\n",
            "59\n",
            "60\n",
            "61\n",
            "62\n",
            "63\n",
            "64\n",
            "65\n",
            "66\n",
            "67\n",
            "68\n",
            "69\n",
            "70\n",
            "71\n",
            "72\n",
            "73\n",
            "74\n",
            "75\n",
            "76\n",
            "77\n",
            "78\n",
            "79\n",
            "80\n",
            "81\n",
            "82\n",
            "83\n",
            "84\n",
            "85\n",
            "86\n",
            "87\n",
            "88\n",
            "89\n",
            "90\n",
            "91\n",
            "92\n",
            "93\n",
            "94\n",
            "95\n",
            "96\n",
            "97\n",
            "98\n",
            "99\n",
            "100\n",
            "[('When Worlds Collide', 'Powerman 5000', 'Rock', 63, '1999'), ('Turn! Turn! Turn! (To Everything There Is a Season)', 'The Byrds', 'Rock', 69, '1965'), ('You And Me', 'Lifehouse', 'Rock', 77, '1995'), (\"maybe, i'm afraid\", 'lovelytheband', 'Rock', 63, '2018'), ('I Put A Spell On You', 'Creedence Clearwater Revival', 'Rock', 60, '1968'), ('How Much I Feel (45 Version)', 'Ambrosia', 'Rock', 50, '1978'), (\"The Times They Are A-Changin'\", 'Bob Dylan', 'Rock', 70, '1964'), ('Wiseman', 'Slightly Stoopid', 'Rock', 57, '2001'), ('Music To Walk Home By', 'Tame Impala', 'Rock', 55, '2012'), ('I Want You', 'Savage Garden', 'Rock', 59, '1997'), ('The Lion and the Lamb', 'Big Daddy Weave', 'Rock', 61, '2015'), ('Eight Second Ride', 'Jake Owen', 'Rock', 56, '2009'), ('Counting Every Blessing', 'Rend Collective', 'Rock', 62, '2018'), ('Authority Song', 'John Mellencamp', 'Rock', 55, '1983'), ('Good Girl', 'Dustin Lynch', 'Rock', 74, '2018'), ('Tupelo Honey', 'Van Morrison', 'Rock', 61, '1971'), ('Classico', 'Tenacious D', 'Rock', 56, '2006'), ('Empire Ants (feat. Little Dragon)', 'Gorillaz', 'Rock', 62, '2010'), (\"Why Won't You Make Up Your Mind?\", 'Tame Impala', 'Rock', 50, '2010'), ('Riding With Private Malone', 'David Ball', 'Rock', 51, '2001'), ('Feel It Still - Medasin Remix', 'Portugal. The Man', 'Rock', 63, '2017'), ('Hold It Down', 'Noah Kahan', 'Rock', 63, '2017'), ('Louisiana Woman, Mississippi Man', 'Conway Twitty', 'Rock', 58, '1973'), ('Four Out Of Five', 'Arctic Monkeys', 'Rock', 66, '2018'), ('505', 'Arctic Monkeys', 'Rock', 63, '2007'), ('Eat The Elephant', 'A Perfect Circle', 'Rock', 54, '2018'), (\"Livin' On A Prayer\", 'Bon Jovi', 'Rock', 74, '1986'), ('Backstreets', 'Bruce Springsteen', 'Rock', 53, '1975'), (\"Hitchin' A Ride\", 'Green Day', 'Rock', 61, '1997'), ('Love You Too Late', 'Cole Swindell', 'Rock', 61, '2018'), ('Running Up That Hill (A Deal With God)', 'Kate Bush', 'Rock', 64, '1985'), (\"How's It Going to Be\", 'Third Eye Blind', 'Rock', 68, '1997'), ('International Harvester', 'Craig Morgan', 'Rock', 63, '2006'), ('Jamie All Over', 'Mayday Parade', 'Rock', 63, '2007'), ('These Words', 'Natasha Bedingfield', 'Rock', 66, '2004'), ('1, 2, 3, 4', \"Plain White T's\", 'Rock', 60, '2008'), ('Still Clean', 'Soccer Mommy', 'Rock', 54, '2018'), ('Modern Jesus', 'Portugal. The Man', 'Rock', 61, '2013'), ('The Modern Age', 'The Strokes', 'Rock', 56, '2001'), ('Kickapoo', 'Tenacious D', 'Rock', 61, '2006'), ('Magic City', 'Gorillaz', 'Rock', 59, '2018'), ('Cool with You', \"Her's\", 'Rock', 66, '2018'), ('Calling All Angels', 'Train', 'Rock', 55, '2003'), (\"You've Got to Stand for Something\", 'Aaron Tippin', 'Rock', 61, '1991'), ('Stuck on the puzzle', 'Alex Turner', 'Rock', 57, '2011'), ('Crocodile Rock', 'Elton John', 'Rock', 68, '1972'), ('Heart of Gold', 'Neil Young', 'Rock', 59, '1972'), ('Where Eagles Dare', 'Misfits', 'Rock', 57, '1985'), ('Come Back Song', 'Darius Rucker', 'Rock', 60, '2010'), ('There Goes Another Love Song', 'The Outlaws', 'Rock', 48, '1975'), ('A New Level', 'Pantera', 'Rock', 56, '1992'), ('Way Out Here', 'Josh Thompson', 'Rock', 53, '2010'), ('Back To Us', 'Rascal Flatts', 'Rock', 58, '2017'), ('Small Town Boy', 'Dustin Lynch', 'Rock', 76, '2017'), ('Te quiero igual', 'Andrés Calamaro', 'Rock', 3, '1994'), ('All Those Years Ago - Remastered 2004', 'George Harrison', 'Rock', 54, '1981'), (\"Saint Dominic's Preview\", 'Van Morrison', 'Rock', 51, '1972'), (\"These Boots Are Made For Walkin'\", 'Nancy Sinatra', 'Rock', 67, '1966'), ('Home Is Such A Lonely Place', 'blink-182', 'Rock', 55, '2016'), ('Bullet', 'Hollywood Undead', 'Rock', 65, '2011'), ('You Never Give Me Your Money - Remastered 2009', 'The Beatles', 'Rock', 59, '1969'), ('14 Faces', 'Lewis Del Mar', 'Rock', 54, '2016'), ('Moon Tower', 'Dirty Heads', 'Rock', 53, '2016'), ('Your Love Could Start a War', 'The Unlikely Candidates', 'Rock', 55, '2016'), ('Sheep Go To Heaven', 'Cake', 'Rock', 51, '1998'), ('Already Gold', 'Iration', 'Rock', 52, '2018'), ('Midnight in Harlem', 'Tedeschi Trucks Band', 'Rock', 59, '2011'), ('Where Does the Good Go', 'Tegan and Sara', 'Rock', 61, '2004'), ('Bambi', 'Hippo Campus', 'Rock', 66, '2018'), ('Parking Lot Party', 'Lee Brice', 'Rock', 57, '2012'), ('Goddamn Lonely Love', 'Drive-By Truckers', 'Rock', 50, '2004'), ('The Denial Twist', 'The White Stripes', 'Rock', 49, '2005'), ('Edge of Desire', 'John Mayer', 'Rock', 63, '2009'), ('You Only Live Once', 'The Strokes', 'Rock', 66, '2006'), (\"I Still Haven't Found What I'm Looking For\", 'U2', 'Rock', 76, '1987'), ('Down by the Seaside', 'Led Zeppelin', 'Rock', 49, '1975'), (\"Don't Be Cruel\", 'Elvis Presley', 'Rock', 62, '1956'), ('High Tea', 'Dirty Heads', 'Rock', 55, '2017'), ('Love Hurts', 'Incubus', 'Rock', 58, '2006'), ('Read My Mind', 'The Killers', 'Rock', 69, '2006'), ('Tie Your Mother Down - Remastered 2011', 'Queen', 'Rock', 56, '1976'), ('Consoler Of The Lonely', 'The Raconteurs', 'Rock', 50, '2008'), ('Hey Hey What Can I Do', 'Led Zeppelin', 'Rock', 61, '1970'), ('OBLIVIUS', 'The Strokes', 'Rock', 60, '2016'), ('Faithfully', 'Journey', 'Rock', 69, '1983'), ('Just the Way You Are', 'Billy Joel', 'Rock', 67, '1977'), ('Black Smoke Rising', 'Greta Van Fleet', 'Rock', 71, '2017'), ('The Sound Of Settling', 'Death Cab for Cutie', 'Rock', 52, '2003'), (\"Can't Take My Eyes Off You\", 'Frankie Valli', 'Rock', 61, '1957'), ('March To The Sea', 'Twenty One Pilots', 'Rock', 60, '2009'), ('Barefoot Blue Jean Night', 'Jake Owen', 'Rock', 70, '2011'), (\"It's Not Living (If It's Not With You)\", 'The 1975', 'Rock', 79, '2018'), ('Chariot', 'Gavin DeGraw', 'Rock', 64, '2003'), ('Daughter (Remastered)', 'Pearl Jam', 'Rock', 68, '1996'), ('Sheep', 'Pink Floyd', 'Rock', 54, '1977'), ('Girlfriend in a Coma - 2011 Remaster', 'The Smiths', 'Rock', 59, '1987'), ('Making Love Out of Nothing at All', 'Air Supply', 'Rock', 64, '1983'), ('Mr. Tambourine Man', 'The Byrds', 'Rock', 62, '1965'), ('Only Jesus', 'Casting Crowns', 'Rock', 66, '2018'), ('American Pie', 'Don McLean', 'Rock', 73, '1971')]\n",
            "1\n",
            "2\n",
            "3\n",
            "4\n",
            "5\n",
            "6\n",
            "7\n",
            "8\n",
            "9\n",
            "10\n",
            "11\n",
            "12\n",
            "13\n",
            "14\n",
            "15\n",
            "16\n",
            "17\n",
            "18\n",
            "19\n",
            "20\n",
            "21\n",
            "22\n",
            "23\n",
            "24\n",
            "25\n",
            "26\n",
            "27\n",
            "28\n",
            "29\n",
            "30\n",
            "31\n",
            "32\n",
            "33\n",
            "34\n",
            "35\n",
            "36\n",
            "37\n",
            "38\n",
            "39\n",
            "40\n",
            "41\n",
            "42\n",
            "43\n",
            "44\n",
            "45\n",
            "46\n",
            "47\n",
            "48\n",
            "49\n",
            "50\n",
            "51\n",
            "52\n",
            "53\n",
            "[('That Yonge Child', 'The American Boychoir', \"Children's Music\", 8, '2015'), (\"I Don't Like Cricket (I Love It)\", 'Juice Music', \"Children's Music\", 1, '2009'), ('Catcher of Dreams', 'Fred Penner', \"Children's Music\", 8, '2017'), ('Wipeout', 'Juice Music', \"Children's Music\", 0, '2006'), ('Dingle Dangle Scarecrow', 'Juice Music', \"Children's Music\", 25, '2010'), ('If I Was A Dinosaur', 'Juice Music', \"Children's Music\", 13, '2012'), ('Counting Even Numbers', 'Sugar Kane Music', \"Children's Music\", 1, '2009'), ('Chug A Chug A Choo Choo', 'Juice Music', \"Children's Music\", 5, '2009'), ('Five Little Ducks', 'Juice Music', \"Children's Music\", 4, '2008'), ('Zany Zack Twist', 'Zany Zack', \"Children's Music\", 0, '2005'), ('Take Me Home Country Roads', 'The Countdown Kids', \"Children's Music\", 2, '2004'), (\"You Can't Stop The Beat\", 'Juice Music', \"Children's Music\", 2, '2008'), ('The Tickle Monster', 'Enzo Garcia', \"Children's Music\", 0, '2005'), ('Pond, Lake, Ocean', 'Enzo Garcia', \"Children's Music\", 0, '2006'), ('Born Ready', 'The Fresh Beat Band', \"Children's Music\", 8, '2012'), ('We Wish You A Merry Christmas', 'The Countdown Kids', \"Children's Music\", 0, '2001'), ('Music Time', 'Patty Shukla', \"Children's Music\", 3, '2011'), ('Greasy Grimy Gopher Guts', 'Juice Music', \"Children's Music\", 0, '2016'), ('Circus Music', 'The Hit Crew Kids', \"Children's Music\", 2, '2009'), ('Schlaf, Mein Kindelein', 'Thomanerchor Leipzig', \"Children's Music\", 0, '1999'), ('Zany Zoo', 'Hap Palmer', \"Children's Music\", 1, '1988'), ('Home Among the Gum Trees', 'The Wayfarers', \"Children's Music\", 0, '2007'), ('Clown Song', 'Hap Palmer', \"Children's Music\", 1, '1988'), (\"My Big Brother's A Monster\", 'Juice Music', \"Children's Music\", 0, '2016'), ('Dress Ups', 'Juice Music', \"Children's Music\", 0, '2009'), ('Teddy Bear, Teddy Bear', 'Sugar Kane Music', \"Children's Music\", 0, '2015'), ('U & UR Hand', 'Juice Music', \"Children's Music\", 0, '2007'), ('Ding Dong The Witch Is Dead', 'Juice Music', \"Children's Music\", 0, '2006'), ('Head And Shoulders Knees And Toes', \"St. John's Children's Choir\", \"Children's Music\", 16, '2002'), ('The Ants Go Marching In', 'Juice Music', \"Children's Music\", 0, '2007'), ('At The Codfish Ball', 'Sugar Kane Music', \"Children's Music\", 1, '2007'), ('Do Your Own Dance - Original Version', 'Choo Choo Soul', \"Children's Music\", 8, '2009'), ('San Sereni', 'Enzo Garcia', \"Children's Music\", 0, '2006'), ('Move Like a Chicken - Original Version', 'Choo Choo Soul', \"Children's Music\", 6, '2009'), ('Seeds for My Garden', 'Jack Grunsky', \"Children's Music\", 0, '2004'), ('B3', 'Rebecca Frezza', \"Children's Music\", 5, '2003'), ('Ding Dong Merrily On High', 'The Countdown Kids', \"Children's Music\", 2, '2002'), ('Wee Willie Winkie', 'Juice Music', \"Children's Music\", 0, '2007'), (\"Can't Stop That Tap\", 'Juice Music', \"Children's Music\", 0, '2006'), ('The Closet Key', 'Enzo Garcia', \"Children's Music\", 0, '2006'), ('Happy, Happy Hippo', 'Juice Music', \"Children's Music\", 3, '2006'), ('Ten Green Bottles', 'Juice Music', \"Children's Music\", 20, '2009'), ('Ride A Cock Horse', 'Juice Music', \"Children's Music\", 1, '2016'), ('I Saw Mommy Kissing Santa Claus', 'The Countdown Kids', \"Children's Music\", 0, '2002'), ('Hand Over Hand', 'Enzo Garcia', \"Children's Music\", 0, '2006'), ('Little Tommy Tucker', 'Juice Music', \"Children's Music\", 0, '2009'), ('Train Is A-Coming', 'Dan Zanes', \"Children's Music\", 0, '2013'), ('Beautiful Isle Of Somewhere', 'Dan Zanes', \"Children's Music\", 0, '2011'), ('Oh What a Barbie', 'The Wayfarers', \"Children's Music\", 0, '2008'), ('Happy Days Theme', 'Juice Music', \"Children's Music\", 4, '2009'), ('I Have Decided To Follow Jesus', \"St. John's Children's Choir\", \"Children's Music\", 13, '2002'), ('Happy Together', 'The Countdown Kids', \"Children's Music\", 0, '2002'), ('Pots And Pans', 'Juice Music', \"Children's Music\", 2, '2008')]\n",
            "1\n",
            "2\n",
            "3\n"
          ]
        },
        {
          "ename": "KeyboardInterrupt",
          "evalue": "ignored",
          "output_type": "error",
          "traceback": [
            "\u001b[0;31m---------------------------------------------------------------------------\u001b[0m",
            "\u001b[0;31mTypeError\u001b[0m                                 Traceback (most recent call last)",
            "\u001b[0;32m/usr/local/lib/python3.7/dist-packages/urllib3/connectionpool.py\u001b[0m in \u001b[0;36m_make_request\u001b[0;34m(self, conn, method, url, timeout, chunked, **httplib_request_kw)\u001b[0m\n\u001b[1;32m    376\u001b[0m             \u001b[0mcontrol\u001b[0m \u001b[0mover\u001b[0m \u001b[0myour\u001b[0m \u001b[0mtimeouts\u001b[0m\u001b[0;34m.\u001b[0m\u001b[0;34m\u001b[0m\u001b[0;34m\u001b[0m\u001b[0m\n\u001b[0;32m--> 377\u001b[0;31m         \"\"\"\n\u001b[0m\u001b[1;32m    378\u001b[0m         \u001b[0mself\u001b[0m\u001b[0;34m.\u001b[0m\u001b[0mnum_requests\u001b[0m \u001b[0;34m+=\u001b[0m \u001b[0;36m1\u001b[0m\u001b[0;34m\u001b[0m\u001b[0;34m\u001b[0m\u001b[0m\n",
            "\u001b[0;31mTypeError\u001b[0m: getresponse() got an unexpected keyword argument 'buffering'",
            "\nDuring handling of the above exception, another exception occurred:\n",
            "\u001b[0;31mKeyboardInterrupt\u001b[0m                         Traceback (most recent call last)",
            "\u001b[0;32m<ipython-input-80-a02e8b39ef5a>\u001b[0m in \u001b[0;36m<module>\u001b[0;34m()\u001b[0m\n\u001b[1;32m     49\u001b[0m           \u001b[0msongUrl\u001b[0m \u001b[0;34m=\u001b[0m \u001b[0mreturnedSong\u001b[0m\u001b[0;34m.\u001b[0m\u001b[0mfind_element\u001b[0m\u001b[0;34m(\u001b[0m\u001b[0mby\u001b[0m\u001b[0;34m=\u001b[0m\u001b[0mBy\u001b[0m\u001b[0;34m.\u001b[0m\u001b[0mPARTIAL_LINK_TEXT\u001b[0m\u001b[0;34m,\u001b[0m \u001b[0mvalue\u001b[0m\u001b[0;34m=\u001b[0m\u001b[0msongTitle\u001b[0m\u001b[0;34m.\u001b[0m\u001b[0mtext\u001b[0m\u001b[0;34m)\u001b[0m\u001b[0;34m.\u001b[0m\u001b[0mget_attribute\u001b[0m\u001b[0;34m(\u001b[0m\u001b[0;34m\"href\"\u001b[0m\u001b[0;34m)\u001b[0m\u001b[0;34m\u001b[0m\u001b[0;34m\u001b[0m\u001b[0m\n\u001b[1;32m     50\u001b[0m           \u001b[0;32mif\u001b[0m \u001b[0msong\u001b[0m\u001b[0;34m[\u001b[0m\u001b[0;36m1\u001b[0m\u001b[0;34m]\u001b[0m \u001b[0;32min\u001b[0m \u001b[0martists\u001b[0m\u001b[0;34m.\u001b[0m\u001b[0mtext\u001b[0m\u001b[0;34m:\u001b[0m\u001b[0;34m\u001b[0m\u001b[0;34m\u001b[0m\u001b[0m\n\u001b[0;32m---> 51\u001b[0;31m             \u001b[0mwd\u001b[0m\u001b[0;34m.\u001b[0m\u001b[0mget\u001b[0m\u001b[0;34m(\u001b[0m\u001b[0msongUrl\u001b[0m\u001b[0;34m)\u001b[0m\u001b[0;34m\u001b[0m\u001b[0;34m\u001b[0m\u001b[0m\n\u001b[0m\u001b[1;32m     52\u001b[0m             \u001b[0myear\u001b[0m \u001b[0;34m=\u001b[0m \u001b[0mwd\u001b[0m\u001b[0;34m.\u001b[0m\u001b[0mfind_element\u001b[0m\u001b[0;34m(\u001b[0m\u001b[0mby\u001b[0m\u001b[0;34m=\u001b[0m\u001b[0mBy\u001b[0m\u001b[0;34m.\u001b[0m\u001b[0mCLASS_NAME\u001b[0m\u001b[0;34m,\u001b[0m \u001b[0mvalue\u001b[0m\u001b[0;34m=\u001b[0m\u001b[0;34m'year'\u001b[0m\u001b[0;34m)\u001b[0m\u001b[0;34m\u001b[0m\u001b[0;34m\u001b[0m\u001b[0m\n\u001b[1;32m     53\u001b[0m             \u001b[0mfullSong\u001b[0m \u001b[0;34m=\u001b[0m \u001b[0;34m(\u001b[0m\u001b[0msong\u001b[0m\u001b[0;34m[\u001b[0m\u001b[0;36m0\u001b[0m\u001b[0;34m]\u001b[0m\u001b[0;34m,\u001b[0m \u001b[0msong\u001b[0m\u001b[0;34m[\u001b[0m\u001b[0;36m1\u001b[0m\u001b[0;34m]\u001b[0m\u001b[0;34m,\u001b[0m \u001b[0msong\u001b[0m\u001b[0;34m[\u001b[0m\u001b[0;36m2\u001b[0m\u001b[0;34m]\u001b[0m\u001b[0;34m,\u001b[0m \u001b[0msong\u001b[0m\u001b[0;34m[\u001b[0m\u001b[0;36m3\u001b[0m\u001b[0;34m]\u001b[0m\u001b[0;34m,\u001b[0m \u001b[0myear\u001b[0m\u001b[0;34m.\u001b[0m\u001b[0mtext\u001b[0m\u001b[0;34m.\u001b[0m\u001b[0msplit\u001b[0m\u001b[0;34m(\u001b[0m\u001b[0;34m\"\\n\"\u001b[0m\u001b[0;34m)\u001b[0m\u001b[0;34m[\u001b[0m\u001b[0;36m1\u001b[0m\u001b[0;34m]\u001b[0m\u001b[0;34m)\u001b[0m\u001b[0;34m\u001b[0m\u001b[0;34m\u001b[0m\u001b[0m\n",
            "\u001b[0;32m/usr/local/lib/python3.7/dist-packages/selenium/webdriver/remote/webdriver.py\u001b[0m in \u001b[0;36mget\u001b[0;34m(self, url)\u001b[0m\n\u001b[1;32m    435\u001b[0m         \u001b[0mLoads\u001b[0m \u001b[0ma\u001b[0m \u001b[0mweb\u001b[0m \u001b[0mpage\u001b[0m \u001b[0;32min\u001b[0m \u001b[0mthe\u001b[0m \u001b[0mcurrent\u001b[0m \u001b[0mbrowser\u001b[0m \u001b[0msession\u001b[0m\u001b[0;34m.\u001b[0m\u001b[0;34m\u001b[0m\u001b[0;34m\u001b[0m\u001b[0m\n\u001b[1;32m    436\u001b[0m         \"\"\"\n\u001b[0;32m--> 437\u001b[0;31m         \u001b[0mself\u001b[0m\u001b[0;34m.\u001b[0m\u001b[0mexecute\u001b[0m\u001b[0;34m(\u001b[0m\u001b[0mCommand\u001b[0m\u001b[0;34m.\u001b[0m\u001b[0mGET\u001b[0m\u001b[0;34m,\u001b[0m \u001b[0;34m{\u001b[0m\u001b[0;34m'url'\u001b[0m\u001b[0;34m:\u001b[0m \u001b[0murl\u001b[0m\u001b[0;34m}\u001b[0m\u001b[0;34m)\u001b[0m\u001b[0;34m\u001b[0m\u001b[0;34m\u001b[0m\u001b[0m\n\u001b[0m\u001b[1;32m    438\u001b[0m \u001b[0;34m\u001b[0m\u001b[0m\n\u001b[1;32m    439\u001b[0m     \u001b[0;34m@\u001b[0m\u001b[0mproperty\u001b[0m\u001b[0;34m\u001b[0m\u001b[0;34m\u001b[0m\u001b[0m\n",
            "\u001b[0;32m/usr/local/lib/python3.7/dist-packages/selenium/webdriver/remote/webdriver.py\u001b[0m in \u001b[0;36mexecute\u001b[0;34m(self, driver_command, params)\u001b[0m\n\u001b[1;32m    421\u001b[0m \u001b[0;34m\u001b[0m\u001b[0m\n\u001b[1;32m    422\u001b[0m         \u001b[0mparams\u001b[0m \u001b[0;34m=\u001b[0m \u001b[0mself\u001b[0m\u001b[0;34m.\u001b[0m\u001b[0m_wrap_value\u001b[0m\u001b[0;34m(\u001b[0m\u001b[0mparams\u001b[0m\u001b[0;34m)\u001b[0m\u001b[0;34m\u001b[0m\u001b[0;34m\u001b[0m\u001b[0m\n\u001b[0;32m--> 423\u001b[0;31m         \u001b[0mresponse\u001b[0m \u001b[0;34m=\u001b[0m \u001b[0mself\u001b[0m\u001b[0;34m.\u001b[0m\u001b[0mcommand_executor\u001b[0m\u001b[0;34m.\u001b[0m\u001b[0mexecute\u001b[0m\u001b[0;34m(\u001b[0m\u001b[0mdriver_command\u001b[0m\u001b[0;34m,\u001b[0m \u001b[0mparams\u001b[0m\u001b[0;34m)\u001b[0m\u001b[0;34m\u001b[0m\u001b[0;34m\u001b[0m\u001b[0m\n\u001b[0m\u001b[1;32m    424\u001b[0m         \u001b[0;32mif\u001b[0m \u001b[0mresponse\u001b[0m\u001b[0;34m:\u001b[0m\u001b[0;34m\u001b[0m\u001b[0;34m\u001b[0m\u001b[0m\n\u001b[1;32m    425\u001b[0m             \u001b[0mself\u001b[0m\u001b[0;34m.\u001b[0m\u001b[0merror_handler\u001b[0m\u001b[0;34m.\u001b[0m\u001b[0mcheck_response\u001b[0m\u001b[0;34m(\u001b[0m\u001b[0mresponse\u001b[0m\u001b[0;34m)\u001b[0m\u001b[0;34m\u001b[0m\u001b[0;34m\u001b[0m\u001b[0m\n",
            "\u001b[0;32m/usr/local/lib/python3.7/dist-packages/selenium/webdriver/remote/remote_connection.py\u001b[0m in \u001b[0;36mexecute\u001b[0;34m(self, command, params)\u001b[0m\n\u001b[1;32m    331\u001b[0m         \u001b[0mdata\u001b[0m \u001b[0;34m=\u001b[0m \u001b[0mutils\u001b[0m\u001b[0;34m.\u001b[0m\u001b[0mdump_json\u001b[0m\u001b[0;34m(\u001b[0m\u001b[0mparams\u001b[0m\u001b[0;34m)\u001b[0m\u001b[0;34m\u001b[0m\u001b[0;34m\u001b[0m\u001b[0m\n\u001b[1;32m    332\u001b[0m         \u001b[0murl\u001b[0m \u001b[0;34m=\u001b[0m \u001b[0;34mf\"{self._url}{path}\"\u001b[0m\u001b[0;34m\u001b[0m\u001b[0;34m\u001b[0m\u001b[0m\n\u001b[0;32m--> 333\u001b[0;31m         \u001b[0;32mreturn\u001b[0m \u001b[0mself\u001b[0m\u001b[0;34m.\u001b[0m\u001b[0m_request\u001b[0m\u001b[0;34m(\u001b[0m\u001b[0mcommand_info\u001b[0m\u001b[0;34m[\u001b[0m\u001b[0;36m0\u001b[0m\u001b[0;34m]\u001b[0m\u001b[0;34m,\u001b[0m \u001b[0murl\u001b[0m\u001b[0;34m,\u001b[0m \u001b[0mbody\u001b[0m\u001b[0;34m=\u001b[0m\u001b[0mdata\u001b[0m\u001b[0;34m)\u001b[0m\u001b[0;34m\u001b[0m\u001b[0;34m\u001b[0m\u001b[0m\n\u001b[0m\u001b[1;32m    334\u001b[0m \u001b[0;34m\u001b[0m\u001b[0m\n\u001b[1;32m    335\u001b[0m     \u001b[0;32mdef\u001b[0m \u001b[0m_request\u001b[0m\u001b[0;34m(\u001b[0m\u001b[0mself\u001b[0m\u001b[0;34m,\u001b[0m \u001b[0mmethod\u001b[0m\u001b[0;34m,\u001b[0m \u001b[0murl\u001b[0m\u001b[0;34m,\u001b[0m \u001b[0mbody\u001b[0m\u001b[0;34m=\u001b[0m\u001b[0;32mNone\u001b[0m\u001b[0;34m)\u001b[0m\u001b[0;34m:\u001b[0m\u001b[0;34m\u001b[0m\u001b[0;34m\u001b[0m\u001b[0m\n",
            "\u001b[0;32m/usr/local/lib/python3.7/dist-packages/selenium/webdriver/remote/remote_connection.py\u001b[0m in \u001b[0;36m_request\u001b[0;34m(self, method, url, body)\u001b[0m\n\u001b[1;32m    353\u001b[0m \u001b[0;34m\u001b[0m\u001b[0m\n\u001b[1;32m    354\u001b[0m         \u001b[0;32mif\u001b[0m \u001b[0mself\u001b[0m\u001b[0;34m.\u001b[0m\u001b[0mkeep_alive\u001b[0m\u001b[0;34m:\u001b[0m\u001b[0;34m\u001b[0m\u001b[0;34m\u001b[0m\u001b[0m\n\u001b[0;32m--> 355\u001b[0;31m             \u001b[0mresp\u001b[0m \u001b[0;34m=\u001b[0m \u001b[0mself\u001b[0m\u001b[0;34m.\u001b[0m\u001b[0m_conn\u001b[0m\u001b[0;34m.\u001b[0m\u001b[0mrequest\u001b[0m\u001b[0;34m(\u001b[0m\u001b[0mmethod\u001b[0m\u001b[0;34m,\u001b[0m \u001b[0murl\u001b[0m\u001b[0;34m,\u001b[0m \u001b[0mbody\u001b[0m\u001b[0;34m=\u001b[0m\u001b[0mbody\u001b[0m\u001b[0;34m,\u001b[0m \u001b[0mheaders\u001b[0m\u001b[0;34m=\u001b[0m\u001b[0mheaders\u001b[0m\u001b[0;34m)\u001b[0m\u001b[0;34m\u001b[0m\u001b[0;34m\u001b[0m\u001b[0m\n\u001b[0m\u001b[1;32m    356\u001b[0m             \u001b[0mstatuscode\u001b[0m \u001b[0;34m=\u001b[0m \u001b[0mresp\u001b[0m\u001b[0;34m.\u001b[0m\u001b[0mstatus\u001b[0m\u001b[0;34m\u001b[0m\u001b[0;34m\u001b[0m\u001b[0m\n\u001b[1;32m    357\u001b[0m         \u001b[0;32melse\u001b[0m\u001b[0;34m:\u001b[0m\u001b[0;34m\u001b[0m\u001b[0;34m\u001b[0m\u001b[0m\n",
            "\u001b[0;32m/usr/local/lib/python3.7/dist-packages/urllib3/request.py\u001b[0m in \u001b[0;36mrequest\u001b[0;34m(self, method, url, fields, headers, **urlopen_kw)\u001b[0m\n\u001b[1;32m     70\u001b[0m \u001b[0;34m\u001b[0m\u001b[0m\n\u001b[1;32m     71\u001b[0m         \u001b[0murlopen_kw\u001b[0m\u001b[0;34m[\u001b[0m\u001b[0;34m\"request_url\"\u001b[0m\u001b[0;34m]\u001b[0m \u001b[0;34m=\u001b[0m \u001b[0murl\u001b[0m\u001b[0;34m\u001b[0m\u001b[0;34m\u001b[0m\u001b[0m\n\u001b[0;32m---> 72\u001b[0;31m \u001b[0;34m\u001b[0m\u001b[0m\n\u001b[0m\u001b[1;32m     73\u001b[0m         \u001b[0;32mif\u001b[0m \u001b[0mmethod\u001b[0m \u001b[0;32min\u001b[0m \u001b[0mself\u001b[0m\u001b[0;34m.\u001b[0m\u001b[0m_encode_url_methods\u001b[0m\u001b[0;34m:\u001b[0m\u001b[0;34m\u001b[0m\u001b[0;34m\u001b[0m\u001b[0m\n\u001b[1;32m     74\u001b[0m             return self.request_encode_url(\n",
            "\u001b[0;32m/usr/local/lib/python3.7/dist-packages/urllib3/request.py\u001b[0m in \u001b[0;36mrequest_encode_body\u001b[0;34m(self, method, url, fields, headers, encode_multipart, multipart_boundary, **urlopen_kw)\u001b[0m\n\u001b[1;32m    148\u001b[0m         \u001b[0;32mif\u001b[0m \u001b[0mfields\u001b[0m\u001b[0;34m:\u001b[0m\u001b[0;34m\u001b[0m\u001b[0;34m\u001b[0m\u001b[0m\n\u001b[1;32m    149\u001b[0m             \u001b[0;32mif\u001b[0m \u001b[0;34m\"body\"\u001b[0m \u001b[0;32min\u001b[0m \u001b[0murlopen_kw\u001b[0m\u001b[0;34m:\u001b[0m\u001b[0;34m\u001b[0m\u001b[0;34m\u001b[0m\u001b[0m\n\u001b[0;32m--> 150\u001b[0;31m                 raise TypeError(\n\u001b[0m\u001b[1;32m    151\u001b[0m                     \u001b[0;34m\"request got values for both 'fields' and 'body', can only specify one.\"\u001b[0m\u001b[0;34m\u001b[0m\u001b[0;34m\u001b[0m\u001b[0m\n\u001b[1;32m    152\u001b[0m                 )\n",
            "\u001b[0;32m/usr/local/lib/python3.7/dist-packages/urllib3/poolmanager.py\u001b[0m in \u001b[0;36murlopen\u001b[0;34m(self, method, url, redirect, **kw)\u001b[0m\n\u001b[1;32m    322\u001b[0m \u001b[0;34m\u001b[0m\u001b[0m\n\u001b[1;32m    323\u001b[0m     \u001b[0;32mdef\u001b[0m \u001b[0m_proxy_requires_url_absolute_form\u001b[0m\u001b[0;34m(\u001b[0m\u001b[0mself\u001b[0m\u001b[0;34m,\u001b[0m \u001b[0mparsed_url\u001b[0m\u001b[0;34m)\u001b[0m\u001b[0;34m:\u001b[0m\u001b[0;34m\u001b[0m\u001b[0;34m\u001b[0m\u001b[0m\n\u001b[0;32m--> 324\u001b[0;31m         \"\"\"\n\u001b[0m\u001b[1;32m    325\u001b[0m         \u001b[0mIndicates\u001b[0m \u001b[0;32mif\u001b[0m \u001b[0mthe\u001b[0m \u001b[0mproxy\u001b[0m \u001b[0mrequires\u001b[0m \u001b[0mthe\u001b[0m \u001b[0mcomplete\u001b[0m \u001b[0mdestination\u001b[0m \u001b[0mURL\u001b[0m \u001b[0;32min\u001b[0m \u001b[0mthe\u001b[0m\u001b[0;34m\u001b[0m\u001b[0;34m\u001b[0m\u001b[0m\n\u001b[1;32m    326\u001b[0m         \u001b[0mrequest\u001b[0m\u001b[0;34m.\u001b[0m  \u001b[0mNormally\u001b[0m \u001b[0mthis\u001b[0m \u001b[0;32mis\u001b[0m \u001b[0monly\u001b[0m \u001b[0mneeded\u001b[0m \u001b[0mwhen\u001b[0m \u001b[0;32mnot\u001b[0m \u001b[0musing\u001b[0m \u001b[0man\u001b[0m \u001b[0mHTTP\u001b[0m \u001b[0mCONNECT\u001b[0m\u001b[0;34m\u001b[0m\u001b[0;34m\u001b[0m\u001b[0m\n",
            "\u001b[0;32m/usr/local/lib/python3.7/dist-packages/urllib3/connectionpool.py\u001b[0m in \u001b[0;36murlopen\u001b[0;34m(self, method, url, body, headers, retries, redirect, assert_same_host, timeout, pool_timeout, release_conn, chunked, body_pos, **response_kw)\u001b[0m\n\u001b[1;32m    598\u001b[0m             \u001b[0mrequest\u001b[0m\u001b[0;34m.\u001b[0m \u001b[0mIt\u001b[0m \u001b[0mmay\u001b[0m \u001b[0mbe\u001b[0m \u001b[0ma\u001b[0m \u001b[0mfloat\u001b[0m \u001b[0;34m(\u001b[0m\u001b[0;32min\u001b[0m \u001b[0mseconds\u001b[0m\u001b[0;34m)\u001b[0m \u001b[0;32mor\u001b[0m \u001b[0man\u001b[0m \u001b[0minstance\u001b[0m \u001b[0mof\u001b[0m\u001b[0;34m\u001b[0m\u001b[0;34m\u001b[0m\u001b[0m\n\u001b[1;32m    599\u001b[0m             \u001b[0;34m:\u001b[0m\u001b[0;32mclass\u001b[0m\u001b[0;34m:\u001b[0m\u001b[0;31m`\u001b[0m\u001b[0murllib3\u001b[0m\u001b[0;34m.\u001b[0m\u001b[0mutil\u001b[0m\u001b[0;34m.\u001b[0m\u001b[0mTimeout\u001b[0m\u001b[0;31m`\u001b[0m\u001b[0;34m.\u001b[0m\u001b[0;34m\u001b[0m\u001b[0;34m\u001b[0m\u001b[0m\n\u001b[0;32m--> 600\u001b[0;31m \u001b[0;34m\u001b[0m\u001b[0m\n\u001b[0m\u001b[1;32m    601\u001b[0m         \u001b[0;34m:\u001b[0m\u001b[0mparam\u001b[0m \u001b[0mpool_timeout\u001b[0m\u001b[0;34m:\u001b[0m\u001b[0;34m\u001b[0m\u001b[0;34m\u001b[0m\u001b[0m\n\u001b[1;32m    602\u001b[0m             \u001b[0mIf\u001b[0m \u001b[0mset\u001b[0m \u001b[0;32mand\u001b[0m \u001b[0mthe\u001b[0m \u001b[0mpool\u001b[0m \u001b[0;32mis\u001b[0m \u001b[0mset\u001b[0m \u001b[0mto\u001b[0m \u001b[0mblock\u001b[0m\u001b[0;34m=\u001b[0m\u001b[0;32mTrue\u001b[0m\u001b[0;34m,\u001b[0m \u001b[0mthen\u001b[0m \u001b[0mthis\u001b[0m \u001b[0mmethod\u001b[0m \u001b[0mwill\u001b[0m\u001b[0;34m\u001b[0m\u001b[0;34m\u001b[0m\u001b[0m\n",
            "\u001b[0;32m/usr/local/lib/python3.7/dist-packages/urllib3/connectionpool.py\u001b[0m in \u001b[0;36m_make_request\u001b[0;34m(self, conn, method, url, timeout, chunked, **httplib_request_kw)\u001b[0m\n\u001b[1;32m    378\u001b[0m         \u001b[0mself\u001b[0m\u001b[0;34m.\u001b[0m\u001b[0mnum_requests\u001b[0m \u001b[0;34m+=\u001b[0m \u001b[0;36m1\u001b[0m\u001b[0;34m\u001b[0m\u001b[0;34m\u001b[0m\u001b[0m\n\u001b[1;32m    379\u001b[0m \u001b[0;34m\u001b[0m\u001b[0m\n\u001b[0;32m--> 380\u001b[0;31m         \u001b[0mtimeout_obj\u001b[0m \u001b[0;34m=\u001b[0m \u001b[0mself\u001b[0m\u001b[0;34m.\u001b[0m\u001b[0m_get_timeout\u001b[0m\u001b[0;34m(\u001b[0m\u001b[0mtimeout\u001b[0m\u001b[0;34m)\u001b[0m\u001b[0;34m\u001b[0m\u001b[0;34m\u001b[0m\u001b[0m\n\u001b[0m\u001b[1;32m    381\u001b[0m         \u001b[0mtimeout_obj\u001b[0m\u001b[0;34m.\u001b[0m\u001b[0mstart_connect\u001b[0m\u001b[0;34m(\u001b[0m\u001b[0;34m)\u001b[0m\u001b[0;34m\u001b[0m\u001b[0;34m\u001b[0m\u001b[0m\n\u001b[1;32m    382\u001b[0m         \u001b[0mconn\u001b[0m\u001b[0;34m.\u001b[0m\u001b[0mtimeout\u001b[0m \u001b[0;34m=\u001b[0m \u001b[0mtimeout_obj\u001b[0m\u001b[0;34m.\u001b[0m\u001b[0mconnect_timeout\u001b[0m\u001b[0;34m\u001b[0m\u001b[0;34m\u001b[0m\u001b[0m\n",
            "\u001b[0;32m/usr/lib/python3.7/http/client.py\u001b[0m in \u001b[0;36mgetresponse\u001b[0;34m(self)\u001b[0m\n\u001b[1;32m   1371\u001b[0m         \u001b[0;32mtry\u001b[0m\u001b[0;34m:\u001b[0m\u001b[0;34m\u001b[0m\u001b[0;34m\u001b[0m\u001b[0m\n\u001b[1;32m   1372\u001b[0m             \u001b[0;32mtry\u001b[0m\u001b[0;34m:\u001b[0m\u001b[0;34m\u001b[0m\u001b[0;34m\u001b[0m\u001b[0m\n\u001b[0;32m-> 1373\u001b[0;31m                 \u001b[0mresponse\u001b[0m\u001b[0;34m.\u001b[0m\u001b[0mbegin\u001b[0m\u001b[0;34m(\u001b[0m\u001b[0;34m)\u001b[0m\u001b[0;34m\u001b[0m\u001b[0;34m\u001b[0m\u001b[0m\n\u001b[0m\u001b[1;32m   1374\u001b[0m             \u001b[0;32mexcept\u001b[0m \u001b[0mConnectionError\u001b[0m\u001b[0;34m:\u001b[0m\u001b[0;34m\u001b[0m\u001b[0;34m\u001b[0m\u001b[0m\n\u001b[1;32m   1375\u001b[0m                 \u001b[0mself\u001b[0m\u001b[0;34m.\u001b[0m\u001b[0mclose\u001b[0m\u001b[0;34m(\u001b[0m\u001b[0;34m)\u001b[0m\u001b[0;34m\u001b[0m\u001b[0;34m\u001b[0m\u001b[0m\n",
            "\u001b[0;32m/usr/lib/python3.7/http/client.py\u001b[0m in \u001b[0;36mbegin\u001b[0;34m(self)\u001b[0m\n\u001b[1;32m    317\u001b[0m         \u001b[0;31m# read until we get a non-100 response\u001b[0m\u001b[0;34m\u001b[0m\u001b[0;34m\u001b[0m\u001b[0;34m\u001b[0m\u001b[0m\n\u001b[1;32m    318\u001b[0m         \u001b[0;32mwhile\u001b[0m \u001b[0;32mTrue\u001b[0m\u001b[0;34m:\u001b[0m\u001b[0;34m\u001b[0m\u001b[0;34m\u001b[0m\u001b[0m\n\u001b[0;32m--> 319\u001b[0;31m             \u001b[0mversion\u001b[0m\u001b[0;34m,\u001b[0m \u001b[0mstatus\u001b[0m\u001b[0;34m,\u001b[0m \u001b[0mreason\u001b[0m \u001b[0;34m=\u001b[0m \u001b[0mself\u001b[0m\u001b[0;34m.\u001b[0m\u001b[0m_read_status\u001b[0m\u001b[0;34m(\u001b[0m\u001b[0;34m)\u001b[0m\u001b[0;34m\u001b[0m\u001b[0;34m\u001b[0m\u001b[0m\n\u001b[0m\u001b[1;32m    320\u001b[0m             \u001b[0;32mif\u001b[0m \u001b[0mstatus\u001b[0m \u001b[0;34m!=\u001b[0m \u001b[0mCONTINUE\u001b[0m\u001b[0;34m:\u001b[0m\u001b[0;34m\u001b[0m\u001b[0;34m\u001b[0m\u001b[0m\n\u001b[1;32m    321\u001b[0m                 \u001b[0;32mbreak\u001b[0m\u001b[0;34m\u001b[0m\u001b[0;34m\u001b[0m\u001b[0m\n",
            "\u001b[0;32m/usr/lib/python3.7/http/client.py\u001b[0m in \u001b[0;36m_read_status\u001b[0;34m(self)\u001b[0m\n\u001b[1;32m    278\u001b[0m \u001b[0;34m\u001b[0m\u001b[0m\n\u001b[1;32m    279\u001b[0m     \u001b[0;32mdef\u001b[0m \u001b[0m_read_status\u001b[0m\u001b[0;34m(\u001b[0m\u001b[0mself\u001b[0m\u001b[0;34m)\u001b[0m\u001b[0;34m:\u001b[0m\u001b[0;34m\u001b[0m\u001b[0;34m\u001b[0m\u001b[0m\n\u001b[0;32m--> 280\u001b[0;31m         \u001b[0mline\u001b[0m \u001b[0;34m=\u001b[0m \u001b[0mstr\u001b[0m\u001b[0;34m(\u001b[0m\u001b[0mself\u001b[0m\u001b[0;34m.\u001b[0m\u001b[0mfp\u001b[0m\u001b[0;34m.\u001b[0m\u001b[0mreadline\u001b[0m\u001b[0;34m(\u001b[0m\u001b[0m_MAXLINE\u001b[0m \u001b[0;34m+\u001b[0m \u001b[0;36m1\u001b[0m\u001b[0;34m)\u001b[0m\u001b[0;34m,\u001b[0m \u001b[0;34m\"iso-8859-1\"\u001b[0m\u001b[0;34m)\u001b[0m\u001b[0;34m\u001b[0m\u001b[0;34m\u001b[0m\u001b[0m\n\u001b[0m\u001b[1;32m    281\u001b[0m         \u001b[0;32mif\u001b[0m \u001b[0mlen\u001b[0m\u001b[0;34m(\u001b[0m\u001b[0mline\u001b[0m\u001b[0;34m)\u001b[0m \u001b[0;34m>\u001b[0m \u001b[0m_MAXLINE\u001b[0m\u001b[0;34m:\u001b[0m\u001b[0;34m\u001b[0m\u001b[0;34m\u001b[0m\u001b[0m\n\u001b[1;32m    282\u001b[0m             \u001b[0;32mraise\u001b[0m \u001b[0mLineTooLong\u001b[0m\u001b[0;34m(\u001b[0m\u001b[0;34m\"status line\"\u001b[0m\u001b[0;34m)\u001b[0m\u001b[0;34m\u001b[0m\u001b[0;34m\u001b[0m\u001b[0m\n",
            "\u001b[0;32m/usr/lib/python3.7/socket.py\u001b[0m in \u001b[0;36mreadinto\u001b[0;34m(self, b)\u001b[0m\n\u001b[1;32m    587\u001b[0m         \u001b[0;32mwhile\u001b[0m \u001b[0;32mTrue\u001b[0m\u001b[0;34m:\u001b[0m\u001b[0;34m\u001b[0m\u001b[0;34m\u001b[0m\u001b[0m\n\u001b[1;32m    588\u001b[0m             \u001b[0;32mtry\u001b[0m\u001b[0;34m:\u001b[0m\u001b[0;34m\u001b[0m\u001b[0;34m\u001b[0m\u001b[0m\n\u001b[0;32m--> 589\u001b[0;31m                 \u001b[0;32mreturn\u001b[0m \u001b[0mself\u001b[0m\u001b[0;34m.\u001b[0m\u001b[0m_sock\u001b[0m\u001b[0;34m.\u001b[0m\u001b[0mrecv_into\u001b[0m\u001b[0;34m(\u001b[0m\u001b[0mb\u001b[0m\u001b[0;34m)\u001b[0m\u001b[0;34m\u001b[0m\u001b[0;34m\u001b[0m\u001b[0m\n\u001b[0m\u001b[1;32m    590\u001b[0m             \u001b[0;32mexcept\u001b[0m \u001b[0mtimeout\u001b[0m\u001b[0;34m:\u001b[0m\u001b[0;34m\u001b[0m\u001b[0;34m\u001b[0m\u001b[0m\n\u001b[1;32m    591\u001b[0m                 \u001b[0mself\u001b[0m\u001b[0;34m.\u001b[0m\u001b[0m_timeout_occurred\u001b[0m \u001b[0;34m=\u001b[0m \u001b[0;32mTrue\u001b[0m\u001b[0;34m\u001b[0m\u001b[0;34m\u001b[0m\u001b[0m\n",
            "\u001b[0;31mKeyboardInterrupt\u001b[0m: "
          ]
        }
      ],
      "source": [
        "from selenium import webdriver\n",
        "from selenium.webdriver.common.by import By\n",
        "import sys\n",
        "import os\n",
        "import re\n",
        "import random\n",
        "\n",
        "#this is the code for getting a webdriver that can open up all of these AllMusic pages\n",
        "sys.path.insert(0,'/usr/lib/chromium-browser/chromedriver')\n",
        "chrome_options = webdriver.ChromeOptions()\n",
        "chrome_options.add_argument('--headless')\n",
        "chrome_options.add_argument('--no-sandbox')\n",
        "chrome_options.add_argument('--disable-dev-shm-usage')\n",
        "wd = webdriver.Chrome('chromedriver',chrome_options=chrome_options)\n",
        "\n",
        "\n",
        "#Here I have an array of all the genres in the dataset\n",
        "genres = set(fulldf['genre'].values)\n",
        "#and here I reduce down all the songs to these four elements\n",
        "songs = fulldf[['track_name', 'artist_name', 'genre', 'popularity']].values\n",
        "\n",
        "songDictionary = {}\n",
        "\n",
        "for genre in genres: \n",
        "  #return only songs that are of this genre\n",
        "  genreSpecificSongs = [(song[0], song[1], song[2], song[3]) for song in songs if song[2] == genre]\n",
        "  #check how many songs there are in this section before you take a sample that is larger than the initial set \n",
        "  length = len(genreSpecificSongs)\n",
        "  sampleSize = 0\n",
        "  if length > 250:\n",
        "    sampleSize = 250\n",
        "  else:\n",
        "    sampleSize = length\n",
        "  genreSpecificSongs = random.sample(genreSpecificSongs, sampleSize) \n",
        "  iterations = 0\n",
        "  completions = 0\n",
        "\n",
        "  #becuase not all the songs can be found on All Music, I sample more than 100 songs, but only pull songs until I reach a hundred that can have a data appended, or run out of songs \n",
        "  while(completions <= 99):\n",
        "    try:\n",
        "      song = genreSpecificSongs[iterations]\n",
        "    except:\n",
        "      break\n",
        "    songArray = song[0].split(\" \")\n",
        "    songUrl = \"%20\".join(songArray)\n",
        "    songUrl = re.sub(r'\\([^)]*\\)', '', songUrl)\n",
        "    #url for allmusic page where all songs of that name are shown\n",
        "    url = \"https://www.allmusic.com/search/all/\" + songUrl\n",
        "    wd.get(url)\n",
        "    try:\n",
        "      #use selenium to get each song returned from the search\n",
        "      searchResults = wd.find_element(by=By.CLASS_NAME, value='search-results')\n",
        "      returnedSongs = searchResults.find_elements(by=By.CLASS_NAME, value='song')\n",
        "      #for reach song returned from search, get the title, and artists and check if this returned song is the one we are looking for \n",
        "      #if it is, then get the url for the specific song, go to the page, pull the date, create a new song object with the data\n",
        "      # and add it to a dicitonary with all the completed songs of that genre \n",
        "      for returnedSong in returnedSongs:\n",
        "        try:\n",
        "          songTitle = returnedSong.find_element(by=By.CLASS_NAME, value='title')\n",
        "          artists = returnedSong.find_element(by=By.CLASS_NAME, value='performers')\n",
        "          songUrl = returnedSong.find_element(by=By.PARTIAL_LINK_TEXT, value=songTitle.text).get_attribute(\"href\")\n",
        "          if song[1] in artists.text:\n",
        "            wd.get(songUrl)\n",
        "            year = wd.find_element(by=By.CLASS_NAME, value='year')\n",
        "            fullSong = (song[0], song[1], song[2], song[3], year.text.split(\"\\n\")[1])\n",
        "            genreSongArray = songDictionary.get(genre)\n",
        "            if genreSongArray == None:\n",
        "              songDictionary[genre] = [fullSong]\n",
        "            else:\n",
        "              currentArray = songDictionary[genre]\n",
        "              currentArray.append(fullSong)\n",
        "              songDictionary[genre] = currentArray\n",
        "            iterations += 1\n",
        "            completions += 1\n",
        "            print(completions)\n",
        "            break\n",
        "        except Exception as e: \n",
        "          continue\n",
        "      iterations += 1\n",
        "    except Exception as e:\n",
        "      iterations += 1\n",
        "      continue\n",
        "  print(songDictionary[genre])\n",
        "\n"
      ]
    },
    {
      "cell_type": "code",
      "execution_count": 115,
      "metadata": {
        "colab": {
          "base_uri": "https://localhost:8080/",
          "height": 301
        },
        "id": "70KcU0aBqcOo",
        "outputId": "a589b3db-bac6-4955-8f92-9a4b60ddb031"
      },
      "outputs": [
        {
          "data": {
            "image/png": "[encoded data removed]",
            "text/plain": [
              "<Figure size 432x288 with 1 Axes>"
            ]
          },
          "metadata": {
            "needs_background": "light"
          },
          "output_type": "display_data"
        }
      ],
      "source": [
        "import matplotlib.pyplot as plt\n",
        "\n",
        "data = {}\n",
        "for genre in songDictionary.keys():\n",
        "  songArray = songDictionary[genre]\n",
        "  nineteenFifties = []\n",
        "  nineteenSixties = []\n",
        "  nineteenSeventies = []\n",
        "  nineteenEighties = []\n",
        "  nineteenNineties = []\n",
        "  twoThousands = []\n",
        "  twoThousandTens = []\n",
        "  for song in songArray:\n",
        "    year = int(song[4])\n",
        "    if 1960 - year > 0:\n",
        "      nineteenFifties.append(song[3])\n",
        "    if 1970 - year > 0:\n",
        "      nineteenSixties.append(song[3])\n",
        "    if 1980 - year > 0:\n",
        "      nineteenSeventies.append(song[3])\n",
        "    if 1990 - year > 0:\n",
        "      nineteenEighties.append(song[3])\n",
        "    if 2000 - year > 0:\n",
        "      nineteenNineties.append(song[3])\n",
        "    if 2010 - year > 0:\n",
        "      twoThousands.append(song[3])\n",
        "    if 2020 - year > 0:\n",
        "      twoThousandTens.append(song[3])\n",
        "  fiftiesMean = 0\n",
        "  sixtiesMean = 0\n",
        "  seventiesMean = 0\n",
        "  eightiesMean = 0\n",
        "  ninetiesMean = 0 \n",
        "  twoThousandsMean = 0\n",
        "  twoThousandTensMean = 0 \n",
        "\n",
        "  if len(nineteenFifties) > 0:\n",
        "    fiftiesMean = statistics.mean(nineteenFifties)\n",
        "  if len(nineteenSixties) > 0:\n",
        "    sixtiesMean = statistics.mean(nineteenSixties)\n",
        "  if len(nineteenSeventies) > 0:\n",
        "    seventiesMean = statistics.mean(nineteenSeventies)\n",
        "  if len(nineteenEighties) > 0:\n",
        "    eightiesMean = statistics.mean(nineteenEighties)\n",
        "  if len(nineteenNineties) > 0:\n",
        "    ninetiesMean = statistics.mean(nineteenNineties)\n",
        "  if len(twoThousands) > 0:\n",
        "    twoThousandsMean = statistics.mean(twoThousands)\n",
        "  if len(twoThousandTens) > 0:\n",
        "    twoThousandTensMean = statistics.mean(twoThousandTens)\n",
        "\n",
        "\n",
        "\n",
        "  data[genre] = np.array([fiftiesMean, sixtiesMean, seventiesMean, eightiesMean, ninetiesMean, twoThousandsMean, twoThousandTensMean])\n",
        "\n",
        "\n",
        "Indie_y = data['Indie']\n",
        "Blues_y = data['Blues']\n",
        "A_Capella_y = data['A Capella']\n",
        "Reggaeton_y = data['Reggaeton']\n",
        "Folk_y = data['Folk']\n",
        "Movie_y = data['Movie']\n",
        "Dance_y = data['Dance']\n",
        "Soul_y = data['Soul']\n",
        "Rock_y = data['Rock']\n",
        "Childrens_Music_Y = data[\"Children's Music\"]\n",
        "Anime_y = data[\"Anime\"]\n",
        "\n",
        "\n",
        "\n",
        "\n",
        "\n",
        "\n",
        "\n",
        "\n",
        "\n",
        "x = np.array([0,1,2,3,4,5,6])\n",
        "my_xticks = ['1950s','1960s','1970s','1980s', '1980s', '1990s', '2000s', '2010s']\n",
        "plt.xticks(x, my_xticks)\n",
        "plt.plot(x, Indie_y, label='Indie')\n",
        "plt.plot(x, Blues_y, label='Blues')\n",
        "plt.plot(x, Dance_y, label='Dance')\n",
        "plt.plot(x, Rock_y, label='Rock')\n",
        "plt.plot(x, Folk_y, label='Folk')\n",
        "# plt.plot(x, Indie_y, label='R&B')\n",
        "# plt.plot(x, Indie_y, label='R&B')\n",
        "# plt.plot(x, Indie_y, label='R&B')\n",
        "# plt.plot(x, Indie_y, label='R&B')\n",
        "# plt.plot(x, Indie_y, label='R&B')\n",
        "# plt.plot(x, Indie_y, label='R&B')\n",
        "plt.legend(loc='best')\n",
        "plt.title(\"Average Popularity of Genres Accross the Decades\", fontsize = 16)\n",
        "plt.ylabel(\"Average Popularity score\", fontsize = 14)\n",
        "plt.xlabel(\"Decade\", fontsize = 14)\n",
        "plt.show()"
      ]
    }
  ],
  "metadata": {
    "colab": {
      "collapsed_sections": [],
      "name": "Big Data Final",
      "provenance": []
    },
    "kernelspec": {
      "display_name": "Python 3",
      "name": "python3"
    },
    "language_info": {
      "name": "python"
    }
  },
  "nbformat": 4,
  "nbformat_minor": 0
}
